{
 "cells": [
  {
   "cell_type": "code",
   "execution_count": 28,
   "id": "f30331d8",
   "metadata": {},
   "outputs": [],
   "source": [
    "import json\n",
    "import time\n",
    "import pandas as pd\n",
    "import datetime\n",
    "\n",
    "\n",
    "from kafka import KafkaProducer"
   ]
  },
  {
   "cell_type": "code",
   "execution_count": 21,
   "id": "5e8ffa32",
   "metadata": {},
   "outputs": [],
   "source": [
    "def json_serializer(data):\n",
    "    return json.dumps(data).encode(\"utf-8\")"
   ]
  },
  {
   "cell_type": "code",
   "execution_count": 22,
   "id": "df6cc370",
   "metadata": {},
   "outputs": [],
   "source": [
    "server = \"localhost:9092\"\n",
    "\n",
    "producer = KafkaProducer(bootstrap_servers=[server], value_serializer=json_serializer)"
   ]
  },
  {
   "cell_type": "code",
   "execution_count": 23,
   "id": "9a77110e",
   "metadata": {},
   "outputs": [
    {
     "data": {
      "text/plain": [
       "True"
      ]
     },
     "execution_count": 23,
     "metadata": {},
     "output_type": "execute_result"
    }
   ],
   "source": [
    "producer.bootstrap_connected()\n"
   ]
  },
  {
   "cell_type": "markdown",
   "id": "ffdffc1a",
   "metadata": {},
   "source": [
    "# Question 2"
   ]
  },
  {
   "cell_type": "code",
   "execution_count": 24,
   "id": "508e3b90",
   "metadata": {},
   "outputs": [
    {
     "name": "stdout",
     "output_type": "stream",
     "text": [
      "Sent: {'number': 0}\n",
      "Sent: {'number': 1}\n",
      "Sent: {'number': 2}\n",
      "Sent: {'number': 3}\n",
      "Sent: {'number': 4}\n",
      "Sent: {'number': 5}\n",
      "Sent: {'number': 6}\n",
      "Sent: {'number': 7}\n",
      "Sent: {'number': 8}\n",
      "Sent: {'number': 9}\n",
      "took 0.51 seconds\n"
     ]
    }
   ],
   "source": [
    "t0 = time.time()\n",
    "\n",
    "topic_name = 'test-topic'\n",
    "\n",
    "for i in range(10):\n",
    "    message = {'number': i}\n",
    "    producer.send(topic_name, value=message)\n",
    "    print(f\"Sent: {message}\")\n",
    "    time.sleep(0.05)\n",
    "\n",
    "producer.flush()\n",
    "\n",
    "t1 = time.time()    \n",
    "print(f'took {(t1 - t0):.2f} seconds')\n"
   ]
  },
  {
   "cell_type": "code",
   "execution_count": null,
   "id": "640ed40d",
   "metadata": {},
   "outputs": [],
   "source": [
    "df_green = pd.read_csv('green_tripdata_2019-10.csv.gz', compression='gzip')\n",
    "\n",
    "\n",
    "\n",
    "df_green = df_green[['lpep_pickup_datetime',\n",
    "                     'lpep_dropoff_datetime',\n",
    "                     'PULocationID',\n",
    "                     'DOLocationID',\n",
    "                     'passenger_count',\n",
    "                     'trip_distance',\n",
    "                     'tip_amount']]\n",
    "\n",
    "topic_name = 'green-trips'\n",
    "t0 = time.time()\n",
    "for row in df_green.itertuples(index=False):\n",
    "    row_dict = {col: getattr(row, col) for col in row._fields}\n",
    "    row_dict['timetstamp'] = datetime.datetime.now().timestamp()\n",
    "    producer.send(topic_name, value=row_dict)\n",
    "t1 = time.time()\n",
    "\n",
    "print(f'It took {round(t1 - t0, 2)} seconds to send these messages.')\n"
   ]
  },
  {
   "cell_type": "code",
   "execution_count": 43,
   "id": "400cbe47",
   "metadata": {
    "scrolled": true
   },
   "outputs": [],
   "source": [
    "import pyspark\n",
    "from pyspark.sql import SparkSession\n",
    "\n",
    "pyspark_version = pyspark.__version__\n",
    "kafka_jar_package = f\"org.apache.spark:spark-sql-kafka-0-10_2.12:{pyspark_version}\"\n",
    "\n",
    "spark = SparkSession \\\n",
    "    .builder \\\n",
    "    .master(\"local[*]\") \\\n",
    "    .appName(\"GreenTripsConsumer\") \\\n",
    "    .config(\"spark.jars.packages\", kafka_jar_package) \\\n",
    "    .getOrCreate()"
   ]
  },
  {
   "cell_type": "code",
   "execution_count": 44,
   "id": "3fa19ddc",
   "metadata": {},
   "outputs": [],
   "source": [
    "green_stream = spark \\\n",
    "    .readStream \\\n",
    "    .format(\"kafka\") \\\n",
    "    .option(\"kafka.bootstrap.servers\", \"localhost:9092\") \\\n",
    "    .option(\"subscribe\", \"green-trips\") \\\n",
    "    .option(\"startingOffsets\", \"earliest\") \\\n",
    "    .load()"
   ]
  },
  {
   "cell_type": "code",
   "execution_count": 45,
   "id": "3aa5c730",
   "metadata": {},
   "outputs": [
    {
     "name": "stderr",
     "output_type": "stream",
     "text": [
      "24/03/14 18:38:34 WARN ResolveWriteToStream: Temporary checkpoint location created which is deleted normally when the query didn't fail: /tmp/temporary-40ded9c3-de37-4d52-9a21-2cfb4bf768a9. If it's required to delete it under any circumstances, please set spark.sql.streaming.forceDeleteTempCheckpointLocation to true. Important to know deleting temp checkpoint folder is best effort.\n",
      "24/03/14 18:38:34 WARN ResolveWriteToStream: spark.sql.adaptive.enabled is not supported in streaming DataFrames/Datasets and will be disabled.\n",
      "24/03/14 18:38:34 WARN AdminClientConfig: These configurations '[key.deserializer, value.deserializer, enable.auto.commit, max.poll.records, auto.offset.reset]' were supplied but are not used yet.\n"
     ]
    },
    {
     "name": "stdout",
     "output_type": "stream",
     "text": [
      "Row(key=None, value=bytearray(b'{\"lpep_pickup_datetime\": \"2019-10-01 00:26:02\", \"lpep_dropoff_datetime\": \"2019-10-01 00:39:58\", \"PULocationID\": 112, \"DOLocationID\": 196, \"passenger_count\": 1.0, \"trip_distance\": 5.88, \"tip_amount\": 0.0, \"timestamp\": \"2024-03-14 18:03:49\"}'), topic='green-trips', partition=0, offset=0, timestamp=datetime.datetime(2024, 3, 14, 18, 3, 49, 388000), timestampType=0)\n"
     ]
    }
   ],
   "source": [
    "def peek(mini_batch, batch_id):\n",
    "    first_row = mini_batch.take(1)\n",
    "\n",
    "    if first_row:\n",
    "        print(first_row[0])\n",
    "\n",
    "query = green_stream.writeStream.foreachBatch(peek).start()"
   ]
  },
  {
   "cell_type": "code",
   "execution_count": 46,
   "id": "b0e4cdcc",
   "metadata": {},
   "outputs": [],
   "source": [
    "query.stop()\n"
   ]
  },
  {
   "cell_type": "code",
   "execution_count": 47,
   "id": "60df3273",
   "metadata": {},
   "outputs": [],
   "source": [
    "from pyspark.sql import types\n",
    "\n",
    "schema = types.StructType() \\\n",
    "    .add(\"lpep_pickup_datetime\", types.StringType()) \\\n",
    "    .add(\"lpep_dropoff_datetime\", types.StringType()) \\\n",
    "    .add(\"PULocationID\", types.IntegerType()) \\\n",
    "    .add(\"DOLocationID\", types.IntegerType()) \\\n",
    "    .add(\"passenger_count\", types.DoubleType()) \\\n",
    "    .add(\"trip_distance\", types.DoubleType()) \\\n",
    "    .add(\"tip_amount\", types.DoubleType())"
   ]
  },
  {
   "cell_type": "code",
   "execution_count": 48,
   "id": "8730bb17",
   "metadata": {},
   "outputs": [],
   "source": [
    "from pyspark.sql import functions as F\n",
    "\n",
    "green_stream = green_stream \\\n",
    "  .select(F.from_json(F.col(\"value\").cast('STRING'), schema).alias(\"data\")) \\\n",
    "  .select(\"data.*\")"
   ]
  },
  {
   "cell_type": "code",
   "execution_count": 49,
   "id": "91a8ed0e",
   "metadata": {},
   "outputs": [
    {
     "name": "stdout",
     "output_type": "stream",
     "text": [
      "root\n",
      " |-- lpep_pickup_datetime: string (nullable = true)\n",
      " |-- lpep_dropoff_datetime: string (nullable = true)\n",
      " |-- PULocationID: integer (nullable = true)\n",
      " |-- DOLocationID: integer (nullable = true)\n",
      " |-- passenger_count: double (nullable = true)\n",
      " |-- trip_distance: double (nullable = true)\n",
      " |-- tip_amount: double (nullable = true)\n",
      "\n"
     ]
    }
   ],
   "source": [
    "green_stream.printSchema()\n"
   ]
  },
  {
   "cell_type": "code",
   "execution_count": 51,
   "id": "c7947b79",
   "metadata": {},
   "outputs": [],
   "source": [
    "green_stream = green_stream.withColumn(\"timestamp\", F.current_timestamp())\n",
    "\n",
    "\n",
    "popular_destinations = green_stream.groupBy(\n",
    "    F.window(\n",
    "        green_stream.timestamp,\n",
    "        windowDuration='5 minutes'\n",
    "    ),\n",
    "    green_stream.DOLocationID,\n",
    ").count()"
   ]
  },
  {
   "cell_type": "code",
   "execution_count": null,
   "id": "3470f00e",
   "metadata": {},
   "outputs": [
    {
     "name": "stderr",
     "output_type": "stream",
     "text": [
      "24/03/14 18:43:33 WARN ResolveWriteToStream: Temporary checkpoint location created which is deleted normally when the query didn't fail: /tmp/temporary-0e3777b1-004c-4bcd-a1b3-36f9ccd741df. If it's required to delete it under any circumstances, please set spark.sql.streaming.forceDeleteTempCheckpointLocation to true. Important to know deleting temp checkpoint folder is best effort.\n",
      "24/03/14 18:43:33 WARN ResolveWriteToStream: spark.sql.adaptive.enabled is not supported in streaming DataFrames/Datasets and will be disabled.\n",
      "24/03/14 18:43:33 WARN AdminClientConfig: These configurations '[key.deserializer, value.deserializer, enable.auto.commit, max.poll.records, auto.offset.reset]' were supplied but are not used yet.\n",
      "                                                                                \r"
     ]
    },
    {
     "name": "stdout",
     "output_type": "stream",
     "text": [
      "-------------------------------------------\n",
      "Batch: 0\n",
      "-------------------------------------------\n",
      "+------------------------------------------+------------+------+\n",
      "|window                                    |DOLocationID|count |\n",
      "+------------------------------------------+------------+------+\n",
      "|{2024-03-14 18:40:00, 2024-03-14 18:45:00}|30          |149   |\n",
      "|{2024-03-14 18:40:00, 2024-03-14 18:45:00}|168         |26848 |\n",
      "|{2024-03-14 18:40:00, 2024-03-14 18:45:00}|171         |6256  |\n",
      "|{2024-03-14 18:40:00, 2024-03-14 18:45:00}|112         |22467 |\n",
      "|{2024-03-14 18:40:00, 2024-03-14 18:45:00}|127         |12396 |\n",
      "|{2024-03-14 18:40:00, 2024-03-14 18:45:00}|160         |15123 |\n",
      "|{2024-03-14 18:40:00, 2024-03-14 18:45:00}|250         |6502  |\n",
      "|{2024-03-14 18:40:00, 2024-03-14 18:45:00}|231         |13981 |\n",
      "|{2024-03-14 18:40:00, 2024-03-14 18:45:00}|120         |1250  |\n",
      "|{2024-03-14 18:40:00, 2024-03-14 18:45:00}|129         |107847|\n",
      "|{2024-03-14 18:40:00, 2024-03-14 18:45:00}|47          |8413  |\n",
      "|{2024-03-14 18:40:00, 2024-03-14 18:45:00}|137         |12046 |\n",
      "|{2024-03-14 18:40:00, 2024-03-14 18:45:00}|165         |8256  |\n",
      "|{2024-03-14 18:40:00, 2024-03-14 18:45:00}|27          |448   |\n",
      "|{2024-03-14 18:40:00, 2024-03-14 18:45:00}|134         |20989 |\n",
      "|{2024-03-14 18:40:00, 2024-03-14 18:45:00}|206         |204   |\n",
      "|{2024-03-14 18:40:00, 2024-03-14 18:45:00}|214         |133   |\n",
      "|{2024-03-14 18:40:00, 2024-03-14 18:45:00}|46          |884   |\n",
      "|{2024-03-14 18:40:00, 2024-03-14 18:45:00}|85          |7933  |\n",
      "|{2024-03-14 18:40:00, 2024-03-14 18:45:00}|23          |127   |\n",
      "+------------------------------------------+------------+------+\n",
      "only showing top 20 rows\n",
      "\n"
     ]
    }
   ],
   "source": [
    "query = popular_destinations \\\n",
    "    .writeStream \\\n",
    "    .outputMode(\"complete\") \\\n",
    "    .format(\"console\") \\\n",
    "    .option(\"truncate\", \"false\") \\\n",
    "    .start()\n",
    "\n",
    "query.awaitTermination()"
   ]
  }
 ],
 "metadata": {
  "kernelspec": {
   "display_name": "Python 3 (ipykernel)",
   "language": "python",
   "name": "python3"
  },
  "language_info": {
   "codemirror_mode": {
    "name": "ipython",
    "version": 3
   },
   "file_extension": ".py",
   "mimetype": "text/x-python",
   "name": "python",
   "nbconvert_exporter": "python",
   "pygments_lexer": "ipython3",
   "version": "3.11.5"
  }
 },
 "nbformat": 4,
 "nbformat_minor": 5
}
