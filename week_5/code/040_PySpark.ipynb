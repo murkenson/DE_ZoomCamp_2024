{
 "cells": [
  {
   "cell_type": "code",
   "execution_count": 1,
   "id": "88ae37b7",
   "metadata": {},
   "outputs": [],
   "source": [
    "import pyspark\n",
    "from pyspark.sql import SparkSession\n"
   ]
  },
  {
   "cell_type": "code",
   "execution_count": 2,
   "id": "e7a1f067",
   "metadata": {},
   "outputs": [
    {
     "data": {
      "text/plain": [
       "'3.5.0'"
      ]
     },
     "execution_count": 2,
     "metadata": {},
     "output_type": "execute_result"
    }
   ],
   "source": [
    "pyspark.__version__"
   ]
  },
  {
   "cell_type": "code",
   "execution_count": 3,
   "id": "19a01248",
   "metadata": {},
   "outputs": [
    {
     "name": "stderr",
     "output_type": "stream",
     "text": [
      "Setting default log level to \"WARN\".\n",
      "To adjust logging level use sc.setLogLevel(newLevel). For SparkR, use setLogLevel(newLevel).\n",
      "24/02/17 08:19:17 WARN NativeCodeLoader: Unable to load native-hadoop library for your platform... using builtin-java classes where applicable\n",
      "24/02/17 08:19:20 WARN Utils: Service 'SparkUI' could not bind on port 4040. Attempting port 4041.\n"
     ]
    }
   ],
   "source": [
    "spark = SparkSession.builder \\\n",
    "    .master(\"local[*]\") \\\n",
    "    .appName('test') \\\n",
    "    .getOrCreate()"
   ]
  },
  {
   "cell_type": "code",
   "execution_count": 4,
   "id": "f20e0bae",
   "metadata": {},
   "outputs": [
    {
     "name": "stderr",
     "output_type": "stream",
     "text": [
      "                                                                                \r"
     ]
    }
   ],
   "source": [
    "df_green = spark.read.parquet('data/pq/green/*/*')"
   ]
  },
  {
   "cell_type": "code",
   "execution_count": 5,
   "id": "3a48a1a2",
   "metadata": {},
   "outputs": [
    {
     "name": "stderr",
     "output_type": "stream",
     "text": [
      "                                                                                \r"
     ]
    },
    {
     "name": "stdout",
     "output_type": "stream",
     "text": [
      "+--------+--------------------+---------------------+------------------+----------+------------+------------+---------------+-------------+-----------+-----+-------+----------+------------+---------+---------------------+------------+------------+---------+--------------------+\n",
      "|VendorID|lpep_pickup_datetime|lpep_dropoff_datetime|store_and_fwd_flag|RatecodeID|PULocationID|DOLocationID|passenger_count|trip_distance|fare_amount|extra|mta_tax|tip_amount|tolls_amount|ehail_fee|improvement_surcharge|total_amount|payment_type|trip_type|congestion_surcharge|\n",
      "+--------+--------------------+---------------------+------------------+----------+------------+------------+---------------+-------------+-----------+-----+-------+----------+------------+---------+---------------------+------------+------------+---------+--------------------+\n",
      "|       2| 2020-01-23 13:10:15|  2020-01-23 13:38:16|                 N|         1|          74|         130|              1|        12.77|       36.0|  0.0|    0.5|      2.05|        6.12|     NULL|                  0.3|       44.97|           1|        1|                 0.0|\n",
      "|    NULL| 2020-01-20 15:09:00|  2020-01-20 15:46:00|              NULL|      NULL|          67|          39|           NULL|          8.0|       29.9| 2.75|    0.5|       0.0|         0.0|     NULL|                  0.3|       33.45|        NULL|     NULL|                NULL|\n",
      "|       2| 2020-01-15 20:23:41|  2020-01-15 20:31:18|                 N|         1|         260|         157|              1|         1.27|        7.0|  0.5|    0.5|       0.0|         0.0|     NULL|                  0.3|         8.3|           2|        1|                 0.0|\n",
      "|       2| 2020-01-05 16:32:26|  2020-01-05 16:40:51|                 N|         1|          82|          83|              1|         1.25|        7.5|  0.0|    0.5|       0.0|         0.0|     NULL|                  0.3|         8.3|           2|        1|                 0.0|\n",
      "|       2| 2020-01-29 19:22:42|  2020-01-29 19:31:02|                 N|         1|         166|          42|              1|         1.84|        8.0|  1.0|    0.5|      2.94|         0.0|     NULL|                  0.3|       12.74|           1|        1|                 0.0|\n",
      "|       2| 2020-01-15 11:07:42|  2020-01-15 11:11:31|                 N|         1|         179|         223|              2|         0.76|        5.0|  0.0|    0.5|       0.0|         0.0|     NULL|                  0.3|         5.8|           2|        1|                 0.0|\n",
      "|       2| 2020-01-16 08:22:29|  2020-01-16 08:50:24|                 N|         1|          41|         237|              1|         3.32|       18.5|  0.0|    0.5|       3.0|         0.0|     NULL|                  0.3|       25.05|           1|        1|                2.75|\n",
      "|       2| 2020-01-28 17:05:28|  2020-01-28 17:26:11|                 N|         1|          75|         161|              1|         2.21|       14.0|  1.0|    0.5|      2.78|         0.0|     NULL|                  0.3|       21.33|           1|        1|                2.75|\n",
      "|       1| 2020-01-22 14:51:37|  2020-01-22 14:57:29|                 N|         1|         152|         166|              1|          0.9|        6.0|  0.0|    0.5|       1.0|         0.0|     NULL|                  0.3|         7.8|           1|        1|                 0.0|\n",
      "|       2| 2020-01-31 10:25:04|  2020-01-31 10:52:13|                 N|         1|          75|         234|              1|          6.1|       22.5|  0.0|    0.5|       0.0|         0.0|     NULL|                  0.3|       26.05|           2|        1|                2.75|\n",
      "|       2| 2020-01-20 15:50:54|  2020-01-20 16:00:06|                 N|         1|          75|          41|              1|         1.74|        8.0|  0.0|    0.5|      1.76|         0.0|     NULL|                  0.3|       10.56|           1|        1|                 0.0|\n",
      "|       2| 2020-01-31 11:35:17|  2020-01-31 11:44:29|                 N|         1|         260|         226|              5|         1.18|        7.5|  0.0|    0.5|       0.0|         0.0|     NULL|                  0.3|         8.3|           2|        1|                 0.0|\n",
      "|       1| 2020-01-04 20:44:28|  2020-01-04 20:52:24|                 N|         1|         129|         129|              1|          2.2|        9.5|  0.5|    0.5|       2.0|         0.0|     NULL|                  0.3|        12.8|           1|        1|                 0.0|\n",
      "|       2| 2020-01-17 21:47:52|  2020-01-17 22:00:07|                 N|         1|          74|         126|              1|         3.04|       12.0|  0.5|    0.5|       0.0|         0.0|     NULL|                  0.3|        13.3|           2|        1|                 0.0|\n",
      "|       2| 2020-01-21 23:13:47|  2020-01-21 23:17:31|                 N|         1|          61|          61|              1|         0.85|        5.0|  0.5|    0.5|       0.0|         0.0|     NULL|                  0.3|         6.3|           2|        1|                 0.0|\n",
      "|       2| 2020-01-02 08:11:21|  2020-01-02 08:32:05|                 N|         1|          66|         164|              1|         5.06|       18.5|  0.0|    0.5|       1.5|         0.0|     NULL|                  0.3|       23.55|           1|        1|                2.75|\n",
      "|       2| 2020-01-27 02:59:20|  2020-01-27 03:05:18|                 N|         1|           7|         179|              1|         1.57|        6.5|  0.5|    0.5|       0.0|         0.0|     NULL|                  0.3|         7.8|           2|        1|                 0.0|\n",
      "|       2| 2020-01-16 14:39:13|  2020-01-16 15:19:56|                 N|         1|          74|         243|              1|          6.8|       29.5|  0.0|    0.5|       0.0|         0.0|     NULL|                  0.3|        30.3|           1|        1|                 0.0|\n",
      "|       2| 2020-01-16 18:42:24|  2020-01-16 18:47:59|                 N|         1|          66|          97|              2|         1.06|        6.0|  1.0|    0.5|      1.56|         0.0|     NULL|                  0.3|        9.36|           1|        1|                 0.0|\n",
      "|       2| 2020-01-03 09:24:54|  2020-01-03 09:33:14|                 N|         1|          61|         225|              1|         1.23|        7.0|  0.0|    0.5|       0.0|         0.0|     NULL|                  0.3|         7.8|           1|        1|                 0.0|\n",
      "+--------+--------------------+---------------------+------------------+----------+------------+------------+---------------+-------------+-----------+-----+-------+----------+------------+---------+---------------------+------------+------------+---------+--------------------+\n",
      "only showing top 20 rows\n",
      "\n"
     ]
    }
   ],
   "source": [
    "df_green.show()"
   ]
  },
  {
   "cell_type": "code",
   "execution_count": 6,
   "id": "9ae4e982",
   "metadata": {},
   "outputs": [
    {
     "name": "stdout",
     "output_type": "stream",
     "text": [
      "root\n",
      " |-- VendorID: integer (nullable = true)\n",
      " |-- lpep_pickup_datetime: timestamp (nullable = true)\n",
      " |-- lpep_dropoff_datetime: timestamp (nullable = true)\n",
      " |-- store_and_fwd_flag: string (nullable = true)\n",
      " |-- RatecodeID: integer (nullable = true)\n",
      " |-- PULocationID: integer (nullable = true)\n",
      " |-- DOLocationID: integer (nullable = true)\n",
      " |-- passenger_count: integer (nullable = true)\n",
      " |-- trip_distance: double (nullable = true)\n",
      " |-- fare_amount: double (nullable = true)\n",
      " |-- extra: double (nullable = true)\n",
      " |-- mta_tax: double (nullable = true)\n",
      " |-- tip_amount: double (nullable = true)\n",
      " |-- tolls_amount: double (nullable = true)\n",
      " |-- ehail_fee: double (nullable = true)\n",
      " |-- improvement_surcharge: double (nullable = true)\n",
      " |-- total_amount: double (nullable = true)\n",
      " |-- payment_type: integer (nullable = true)\n",
      " |-- trip_type: integer (nullable = true)\n",
      " |-- congestion_surcharge: double (nullable = true)\n",
      "\n"
     ]
    }
   ],
   "source": [
    "df_green.printSchema()"
   ]
  },
  {
   "cell_type": "code",
   "execution_count": 12,
   "id": "d8eeff73",
   "metadata": {},
   "outputs": [],
   "source": [
    "df_yellow = spark.read.parquet('data/pq/yellow/*/*')"
   ]
  },
  {
   "cell_type": "code",
   "execution_count": 13,
   "id": "626c5145",
   "metadata": {},
   "outputs": [
    {
     "name": "stdout",
     "output_type": "stream",
     "text": [
      "+--------+--------------------+---------------------+---------------+-------------+----------+------------------+------------+------------+------------+-----------+-----+-------+----------+------------+---------------------+------------+--------------------+\n",
      "|VendorID|tpep_pickup_datetime|tpep_dropoff_datetime|passenger_count|trip_distance|RatecodeID|store_and_fwd_flag|PULocationID|DOLocationID|payment_type|fare_amount|extra|mta_tax|tip_amount|tolls_amount|improvement_surcharge|total_amount|congestion_surcharge|\n",
      "+--------+--------------------+---------------------+---------------+-------------+----------+------------------+------------+------------+------------+-----------+-----+-------+----------+------------+---------------------+------------+--------------------+\n",
      "|       2| 2020-01-06 09:18:38|  2020-01-06 09:33:56|              1|         3.03|         1|                 N|         263|         233|           1|       12.0|  0.0|    0.5|       1.5|         0.0|                  0.3|        16.8|                 2.5|\n",
      "|       2| 2020-01-08 18:55:19|  2020-01-08 18:58:38|              1|          0.4|         1|                 N|         234|         107|           1|        4.0|  1.0|    0.5|      1.66|         0.0|                  0.3|        9.96|                 2.5|\n",
      "|       2| 2020-01-16 12:11:53|  2020-01-16 12:42:44|              1|         2.46|         1|                 N|          68|         229|           1|       19.0|  0.0|    0.5|      4.46|         0.0|                  0.3|       26.76|                 2.5|\n",
      "|       2| 2020-01-11 01:55:59|  2020-01-11 02:03:21|              6|          1.9|         1|                 N|         230|          90|           1|        8.0|  0.5|    0.5|      2.36|         0.0|                  0.3|       14.16|                 2.5|\n",
      "|       2| 2020-01-01 21:31:48|  2020-01-01 21:36:01|              1|         0.77|         1|                 N|         238|         239|           1|        5.0|  0.5|    0.5|      1.76|         0.0|                  0.3|       10.56|                 2.5|\n",
      "|       2| 2020-01-14 11:51:02|  2020-01-14 12:01:14|              1|         1.55|         1|                 N|         163|         230|           1|        8.5|  0.0|    0.5|       0.5|         0.0|                  0.3|        12.3|                 2.5|\n",
      "|       2| 2020-01-26 19:15:51|  2020-01-26 19:30:13|              1|         2.53|         1|                 N|         170|         236|           2|       12.0|  0.0|    0.5|       0.0|         0.0|                  0.3|        15.3|                 2.5|\n",
      "|       1| 2020-01-23 08:06:15|  2020-01-23 08:16:14|              3|          1.7|         1|                 N|         163|          68|           1|        8.5|  2.5|    0.5|      2.95|         0.0|                  0.3|       14.75|                 2.5|\n",
      "|       1| 2020-01-18 18:50:47|  2020-01-18 19:03:13|              2|          0.8|         1|                 N|         234|         186|           2|        9.0|  2.5|    0.5|       0.0|         0.0|                  0.3|        12.3|                 2.5|\n",
      "|       2| 2020-01-26 16:08:15|  2020-01-26 16:27:05|              1|         1.72|         1|                 N|         237|         162|           2|       12.5|  0.0|    0.5|       0.0|         0.0|                  0.3|        15.8|                 2.5|\n",
      "|       2| 2020-01-20 22:50:00|  2020-01-20 23:21:42|              1|        11.32|         1|                 N|         138|         239|           1|       35.0|  0.5|    0.5|      8.98|        6.12|                  0.3|        53.9|                 2.5|\n",
      "|       1| 2020-01-15 23:05:17|  2020-01-15 23:27:28|              1|          6.6|         1|                 N|         125|         151|           1|       23.0|  3.0|    0.5|       3.0|         0.0|                  0.3|        29.8|                 2.5|\n",
      "|       2| 2020-01-24 08:02:45|  2020-01-24 08:10:58|              1|         1.18|         1|                 N|         170|         161|           1|        7.0|  0.0|    0.5|      2.06|         0.0|                  0.3|       12.36|                 2.5|\n",
      "|       2| 2020-01-08 19:24:16|  2020-01-08 19:32:17|              2|         1.23|         1|                 N|         234|         249|           1|        7.0|  1.0|    0.5|      2.26|         0.0|                  0.3|       13.56|                 2.5|\n",
      "|       2| 2020-01-25 08:28:20|  2020-01-25 08:32:30|              2|         0.65|         1|                 N|         237|         140|           1|        5.0|  0.0|    0.5|       1.0|         0.0|                  0.3|         9.3|                 2.5|\n",
      "|       1| 2020-01-11 16:43:09|  2020-01-11 17:00:42|              1|          1.7|         1|                 N|         186|         113|           1|       11.5|  2.5|    0.5|      2.22|         0.0|                  0.3|       17.02|                 2.5|\n",
      "|       1| 2020-01-07 12:32:34|  2020-01-07 12:43:03|              1|          1.4|         1|                 N|         234|         246|           1|        8.5|  2.5|    0.5|      2.35|         0.0|                  0.3|       14.15|                 2.5|\n",
      "|       2| 2020-01-06 11:57:13|  2020-01-06 12:05:37|              1|         2.23|         1|                 N|         263|          74|           2|        9.0|  0.0|    0.5|       0.0|         0.0|                  0.3|        12.3|                 2.5|\n",
      "|       1| 2020-01-20 21:57:49|  2020-01-20 22:03:45|              1|          1.4|         1|                 N|         231|         113|           1|        6.5|  3.0|    0.5|       1.0|         0.0|                  0.3|        11.3|                 2.5|\n",
      "|       2| 2020-01-07 18:23:35|  2020-01-07 18:31:25|              2|         1.04|         1|                 N|         211|          79|           1|        7.0|  1.0|    0.5|      2.26|         0.0|                  0.3|       13.56|                 2.5|\n",
      "+--------+--------------------+---------------------+---------------+-------------+----------+------------------+------------+------------+------------+-----------+-----+-------+----------+------------+---------------------+------------+--------------------+\n",
      "only showing top 20 rows\n",
      "\n"
     ]
    }
   ],
   "source": [
    "df_yellow.show()"
   ]
  },
  {
   "cell_type": "code",
   "execution_count": 14,
   "id": "f81bf75f",
   "metadata": {},
   "outputs": [
    {
     "name": "stdout",
     "output_type": "stream",
     "text": [
      "root\n",
      " |-- VendorID: integer (nullable = true)\n",
      " |-- tpep_pickup_datetime: timestamp (nullable = true)\n",
      " |-- tpep_dropoff_datetime: timestamp (nullable = true)\n",
      " |-- passenger_count: integer (nullable = true)\n",
      " |-- trip_distance: double (nullable = true)\n",
      " |-- RatecodeID: integer (nullable = true)\n",
      " |-- store_and_fwd_flag: string (nullable = true)\n",
      " |-- PULocationID: integer (nullable = true)\n",
      " |-- DOLocationID: integer (nullable = true)\n",
      " |-- payment_type: integer (nullable = true)\n",
      " |-- fare_amount: double (nullable = true)\n",
      " |-- extra: double (nullable = true)\n",
      " |-- mta_tax: double (nullable = true)\n",
      " |-- tip_amount: double (nullable = true)\n",
      " |-- tolls_amount: double (nullable = true)\n",
      " |-- improvement_surcharge: double (nullable = true)\n",
      " |-- total_amount: double (nullable = true)\n",
      " |-- congestion_surcharge: double (nullable = true)\n",
      "\n"
     ]
    }
   ],
   "source": [
    "df_yellow.printSchema()"
   ]
  },
  {
   "cell_type": "code",
   "execution_count": 15,
   "id": "9b75ae0e",
   "metadata": {},
   "outputs": [
    {
     "data": {
      "text/plain": [
       "['VendorID',\n",
       " 'lpep_pickup_datetime',\n",
       " 'lpep_dropoff_datetime',\n",
       " 'store_and_fwd_flag',\n",
       " 'RatecodeID',\n",
       " 'PULocationID',\n",
       " 'DOLocationID',\n",
       " 'passenger_count',\n",
       " 'trip_distance',\n",
       " 'fare_amount',\n",
       " 'extra',\n",
       " 'mta_tax',\n",
       " 'tip_amount',\n",
       " 'tolls_amount',\n",
       " 'ehail_fee',\n",
       " 'improvement_surcharge',\n",
       " 'total_amount',\n",
       " 'payment_type',\n",
       " 'trip_type',\n",
       " 'congestion_surcharge']"
      ]
     },
     "execution_count": 15,
     "metadata": {},
     "output_type": "execute_result"
    }
   ],
   "source": [
    "df_green.columns"
   ]
  },
  {
   "cell_type": "code",
   "execution_count": 16,
   "id": "e9016708",
   "metadata": {},
   "outputs": [
    {
     "data": {
      "text/plain": [
       "['VendorID',\n",
       " 'tpep_pickup_datetime',\n",
       " 'tpep_dropoff_datetime',\n",
       " 'passenger_count',\n",
       " 'trip_distance',\n",
       " 'RatecodeID',\n",
       " 'store_and_fwd_flag',\n",
       " 'PULocationID',\n",
       " 'DOLocationID',\n",
       " 'payment_type',\n",
       " 'fare_amount',\n",
       " 'extra',\n",
       " 'mta_tax',\n",
       " 'tip_amount',\n",
       " 'tolls_amount',\n",
       " 'improvement_surcharge',\n",
       " 'total_amount',\n",
       " 'congestion_surcharge']"
      ]
     },
     "execution_count": 16,
     "metadata": {},
     "output_type": "execute_result"
    }
   ],
   "source": [
    "df_yellow.columns"
   ]
  },
  {
   "cell_type": "code",
   "execution_count": 17,
   "id": "e95f8345",
   "metadata": {},
   "outputs": [],
   "source": [
    "df_green = df_green \\\n",
    "    .withColumnRenamed('lpep_pickup_datetime', 'pickup_datetime') \\\n",
    "    .withColumnRenamed('lpep_dropoff_datetime', 'dropoff_datetime')\n"
   ]
  },
  {
   "cell_type": "code",
   "execution_count": 18,
   "id": "d03f33b2",
   "metadata": {},
   "outputs": [
    {
     "name": "stdout",
     "output_type": "stream",
     "text": [
      "+--------+-------------------+-------------------+------------------+----------+------------+------------+---------------+-------------+-----------+-----+-------+----------+------------+---------+---------------------+------------+------------+---------+--------------------+\n",
      "|VendorID|    pickup_datetime|   dropoff_datetime|store_and_fwd_flag|RatecodeID|PULocationID|DOLocationID|passenger_count|trip_distance|fare_amount|extra|mta_tax|tip_amount|tolls_amount|ehail_fee|improvement_surcharge|total_amount|payment_type|trip_type|congestion_surcharge|\n",
      "+--------+-------------------+-------------------+------------------+----------+------------+------------+---------------+-------------+-----------+-----+-------+----------+------------+---------+---------------------+------------+------------+---------+--------------------+\n",
      "|       2|2020-01-23 13:10:15|2020-01-23 13:38:16|                 N|         1|          74|         130|              1|        12.77|       36.0|  0.0|    0.5|      2.05|        6.12|     NULL|                  0.3|       44.97|           1|        1|                 0.0|\n",
      "|    NULL|2020-01-20 15:09:00|2020-01-20 15:46:00|              NULL|      NULL|          67|          39|           NULL|          8.0|       29.9| 2.75|    0.5|       0.0|         0.0|     NULL|                  0.3|       33.45|        NULL|     NULL|                NULL|\n",
      "|       2|2020-01-15 20:23:41|2020-01-15 20:31:18|                 N|         1|         260|         157|              1|         1.27|        7.0|  0.5|    0.5|       0.0|         0.0|     NULL|                  0.3|         8.3|           2|        1|                 0.0|\n",
      "|       2|2020-01-05 16:32:26|2020-01-05 16:40:51|                 N|         1|          82|          83|              1|         1.25|        7.5|  0.0|    0.5|       0.0|         0.0|     NULL|                  0.3|         8.3|           2|        1|                 0.0|\n",
      "|       2|2020-01-29 19:22:42|2020-01-29 19:31:02|                 N|         1|         166|          42|              1|         1.84|        8.0|  1.0|    0.5|      2.94|         0.0|     NULL|                  0.3|       12.74|           1|        1|                 0.0|\n",
      "+--------+-------------------+-------------------+------------------+----------+------------+------------+---------------+-------------+-----------+-----+-------+----------+------------+---------+---------------------+------------+------------+---------+--------------------+\n",
      "only showing top 5 rows\n",
      "\n"
     ]
    }
   ],
   "source": [
    "df_green.show(5)"
   ]
  },
  {
   "cell_type": "code",
   "execution_count": 19,
   "id": "687069c6",
   "metadata": {},
   "outputs": [],
   "source": [
    "df_yellow = df_yellow \\\n",
    "    .withColumnRenamed('tpep_pickup_datetime', 'pickup_datetime') \\\n",
    "    .withColumnRenamed('tpep_dropoff_datetime', 'dropoff_datetime')\n"
   ]
  },
  {
   "cell_type": "code",
   "execution_count": 20,
   "id": "a045f3f2",
   "metadata": {},
   "outputs": [
    {
     "name": "stdout",
     "output_type": "stream",
     "text": [
      "+--------+-------------------+-------------------+---------------+-------------+----------+------------------+------------+------------+------------+-----------+-----+-------+----------+------------+---------------------+------------+--------------------+\n",
      "|VendorID|    pickup_datetime|   dropoff_datetime|passenger_count|trip_distance|RatecodeID|store_and_fwd_flag|PULocationID|DOLocationID|payment_type|fare_amount|extra|mta_tax|tip_amount|tolls_amount|improvement_surcharge|total_amount|congestion_surcharge|\n",
      "+--------+-------------------+-------------------+---------------+-------------+----------+------------------+------------+------------+------------+-----------+-----+-------+----------+------------+---------------------+------------+--------------------+\n",
      "|       2|2020-01-06 09:18:38|2020-01-06 09:33:56|              1|         3.03|         1|                 N|         263|         233|           1|       12.0|  0.0|    0.5|       1.5|         0.0|                  0.3|        16.8|                 2.5|\n",
      "|       2|2020-01-08 18:55:19|2020-01-08 18:58:38|              1|          0.4|         1|                 N|         234|         107|           1|        4.0|  1.0|    0.5|      1.66|         0.0|                  0.3|        9.96|                 2.5|\n",
      "|       2|2020-01-16 12:11:53|2020-01-16 12:42:44|              1|         2.46|         1|                 N|          68|         229|           1|       19.0|  0.0|    0.5|      4.46|         0.0|                  0.3|       26.76|                 2.5|\n",
      "|       2|2020-01-11 01:55:59|2020-01-11 02:03:21|              6|          1.9|         1|                 N|         230|          90|           1|        8.0|  0.5|    0.5|      2.36|         0.0|                  0.3|       14.16|                 2.5|\n",
      "|       2|2020-01-01 21:31:48|2020-01-01 21:36:01|              1|         0.77|         1|                 N|         238|         239|           1|        5.0|  0.5|    0.5|      1.76|         0.0|                  0.3|       10.56|                 2.5|\n",
      "+--------+-------------------+-------------------+---------------+-------------+----------+------------------+------------+------------+------------+-----------+-----+-------+----------+------------+---------------------+------------+--------------------+\n",
      "only showing top 5 rows\n",
      "\n"
     ]
    }
   ],
   "source": [
    "df_yellow.show(5)"
   ]
  },
  {
   "cell_type": "code",
   "execution_count": 22,
   "id": "ea89ee8b",
   "metadata": {},
   "outputs": [
    {
     "data": {
      "text/plain": [
       "{'DOLocationID',\n",
       " 'PULocationID',\n",
       " 'RatecodeID',\n",
       " 'VendorID',\n",
       " 'congestion_surcharge',\n",
       " 'dropoff_datetime',\n",
       " 'extra',\n",
       " 'fare_amount',\n",
       " 'improvement_surcharge',\n",
       " 'mta_tax',\n",
       " 'passenger_count',\n",
       " 'payment_type',\n",
       " 'pickup_datetime',\n",
       " 'store_and_fwd_flag',\n",
       " 'tip_amount',\n",
       " 'tolls_amount',\n",
       " 'total_amount',\n",
       " 'trip_distance'}"
      ]
     },
     "execution_count": 22,
     "metadata": {},
     "output_type": "execute_result"
    }
   ],
   "source": [
    "set(df_green.columns) & set(df_yellow.columns)"
   ]
  },
  {
   "cell_type": "code",
   "execution_count": 23,
   "id": "70e6b4cb",
   "metadata": {},
   "outputs": [],
   "source": [
    "common_colums = []\n",
    "\n",
    "yellow_columns = set(df_yellow.columns)\n",
    "\n",
    "for col in df_green.columns:\n",
    "    if col in yellow_columns:\n",
    "        common_colums.append(col)"
   ]
  },
  {
   "cell_type": "code",
   "execution_count": 24,
   "id": "5ae9edbb",
   "metadata": {},
   "outputs": [
    {
     "data": {
      "text/plain": [
       "['VendorID',\n",
       " 'pickup_datetime',\n",
       " 'dropoff_datetime',\n",
       " 'store_and_fwd_flag',\n",
       " 'RatecodeID',\n",
       " 'PULocationID',\n",
       " 'DOLocationID',\n",
       " 'passenger_count',\n",
       " 'trip_distance',\n",
       " 'fare_amount',\n",
       " 'extra',\n",
       " 'mta_tax',\n",
       " 'tip_amount',\n",
       " 'tolls_amount',\n",
       " 'improvement_surcharge',\n",
       " 'total_amount',\n",
       " 'payment_type',\n",
       " 'congestion_surcharge']"
      ]
     },
     "execution_count": 24,
     "metadata": {},
     "output_type": "execute_result"
    }
   ],
   "source": [
    "common_colums"
   ]
  },
  {
   "cell_type": "code",
   "execution_count": 25,
   "id": "89a55250",
   "metadata": {},
   "outputs": [],
   "source": [
    "from pyspark.sql import functions as F\n"
   ]
  },
  {
   "cell_type": "code",
   "execution_count": 27,
   "id": "debb8b6c",
   "metadata": {},
   "outputs": [],
   "source": [
    "df_green_sel = df_green \\\n",
    "    .select(common_colums) \\\n",
    "    .withColumn('service_type', F.lit('green'))"
   ]
  },
  {
   "cell_type": "code",
   "execution_count": 28,
   "id": "8e688ff2",
   "metadata": {},
   "outputs": [],
   "source": [
    "df_yellow_sel = df_yellow \\\n",
    "    .select(common_colums) \\\n",
    "    .withColumn('service_type', F.lit('yellow'))"
   ]
  },
  {
   "cell_type": "code",
   "execution_count": 29,
   "id": "5f4be7f1",
   "metadata": {},
   "outputs": [],
   "source": [
    "df_trips_data = df_green_sel.unionAll(df_yellow_sel)"
   ]
  },
  {
   "cell_type": "code",
   "execution_count": 33,
   "id": "8bd0cef8",
   "metadata": {},
   "outputs": [
    {
     "name": "stderr",
     "output_type": "stream",
     "text": [
      "[Stage 11:===================================================>     (9 + 1) / 10]\r"
     ]
    },
    {
     "name": "stdout",
     "output_type": "stream",
     "text": [
      "+------------+--------+\n",
      "|service_type|   count|\n",
      "+------------+--------+\n",
      "|       green| 1734051|\n",
      "|      yellow|24648499|\n",
      "+------------+--------+\n",
      "\n"
     ]
    },
    {
     "name": "stderr",
     "output_type": "stream",
     "text": [
      "\r",
      "                                                                                \r"
     ]
    }
   ],
   "source": [
    "df_trips_data.groupBy('service_type').count().show()\n"
   ]
  },
  {
   "cell_type": "code",
   "execution_count": 34,
   "id": "c3ec9d9f",
   "metadata": {},
   "outputs": [
    {
     "name": "stderr",
     "output_type": "stream",
     "text": [
      "/home/marfanyan/spark/spark-3.5.0-bin-hadoop3/python/pyspark/sql/dataframe.py:329: FutureWarning: Deprecated in 2.0, use createOrReplaceTempView instead.\n",
      "  warnings.warn(\"Deprecated in 2.0, use createOrReplaceTempView instead.\", FutureWarning)\n"
     ]
    }
   ],
   "source": [
    "df_trips_data.registerTempTable('trips_data')\n"
   ]
  },
  {
   "cell_type": "code",
   "execution_count": 36,
   "id": "411033b2",
   "metadata": {},
   "outputs": [
    {
     "name": "stdout",
     "output_type": "stream",
     "text": [
      "+--------+-------------------+-------------------+------------------+----------+------------+------------+---------------+-------------+-----------+-----+-------+----------+------------+---------------------+------------+------------+--------------------+------------+\n",
      "|VendorID|    pickup_datetime|   dropoff_datetime|store_and_fwd_flag|RatecodeID|PULocationID|DOLocationID|passenger_count|trip_distance|fare_amount|extra|mta_tax|tip_amount|tolls_amount|improvement_surcharge|total_amount|payment_type|congestion_surcharge|service_type|\n",
      "+--------+-------------------+-------------------+------------------+----------+------------+------------+---------------+-------------+-----------+-----+-------+----------+------------+---------------------+------------+------------+--------------------+------------+\n",
      "|       2|2020-01-23 13:10:15|2020-01-23 13:38:16|                 N|         1|          74|         130|              1|        12.77|       36.0|  0.0|    0.5|      2.05|        6.12|                  0.3|       44.97|           1|                 0.0|       green|\n",
      "|    NULL|2020-01-20 15:09:00|2020-01-20 15:46:00|              NULL|      NULL|          67|          39|           NULL|          8.0|       29.9| 2.75|    0.5|       0.0|         0.0|                  0.3|       33.45|        NULL|                NULL|       green|\n",
      "|       2|2020-01-15 20:23:41|2020-01-15 20:31:18|                 N|         1|         260|         157|              1|         1.27|        7.0|  0.5|    0.5|       0.0|         0.0|                  0.3|         8.3|           2|                 0.0|       green|\n",
      "|       2|2020-01-05 16:32:26|2020-01-05 16:40:51|                 N|         1|          82|          83|              1|         1.25|        7.5|  0.0|    0.5|       0.0|         0.0|                  0.3|         8.3|           2|                 0.0|       green|\n",
      "|       2|2020-01-29 19:22:42|2020-01-29 19:31:02|                 N|         1|         166|          42|              1|         1.84|        8.0|  1.0|    0.5|      2.94|         0.0|                  0.3|       12.74|           1|                 0.0|       green|\n",
      "|       2|2020-01-15 11:07:42|2020-01-15 11:11:31|                 N|         1|         179|         223|              2|         0.76|        5.0|  0.0|    0.5|       0.0|         0.0|                  0.3|         5.8|           2|                 0.0|       green|\n",
      "|       2|2020-01-16 08:22:29|2020-01-16 08:50:24|                 N|         1|          41|         237|              1|         3.32|       18.5|  0.0|    0.5|       3.0|         0.0|                  0.3|       25.05|           1|                2.75|       green|\n",
      "|       2|2020-01-28 17:05:28|2020-01-28 17:26:11|                 N|         1|          75|         161|              1|         2.21|       14.0|  1.0|    0.5|      2.78|         0.0|                  0.3|       21.33|           1|                2.75|       green|\n",
      "|       1|2020-01-22 14:51:37|2020-01-22 14:57:29|                 N|         1|         152|         166|              1|          0.9|        6.0|  0.0|    0.5|       1.0|         0.0|                  0.3|         7.8|           1|                 0.0|       green|\n",
      "|       2|2020-01-31 10:25:04|2020-01-31 10:52:13|                 N|         1|          75|         234|              1|          6.1|       22.5|  0.0|    0.5|       0.0|         0.0|                  0.3|       26.05|           2|                2.75|       green|\n",
      "+--------+-------------------+-------------------+------------------+----------+------------+------------+---------------+-------------+-----------+-----+-------+----------+------------+---------------------+------------+------------+--------------------+------------+\n",
      "\n"
     ]
    }
   ],
   "source": [
    "spark.sql(\"\"\"select * from trips_data limit 10\"\"\").show()\n"
   ]
  },
  {
   "cell_type": "code",
   "execution_count": 37,
   "id": "d4f8b782",
   "metadata": {},
   "outputs": [
    {
     "name": "stderr",
     "output_type": "stream",
     "text": [
      "[Stage 15:===================================================>     (9 + 1) / 10]\r"
     ]
    },
    {
     "name": "stdout",
     "output_type": "stream",
     "text": [
      "+------------+--------+\n",
      "|service_type|count(1)|\n",
      "+------------+--------+\n",
      "|       green| 1734051|\n",
      "|      yellow|24648499|\n",
      "+------------+--------+\n",
      "\n"
     ]
    },
    {
     "name": "stderr",
     "output_type": "stream",
     "text": [
      "\r",
      "                                                                                \r"
     ]
    }
   ],
   "source": [
    "spark.sql(\"\"\"\n",
    "SELECT\n",
    "    service_type,\n",
    "    count(1)\n",
    "FROM\n",
    "    trips_data\n",
    "GROUP BY \n",
    "    service_type\n",
    "\"\"\").show()"
   ]
  },
  {
   "cell_type": "code",
   "execution_count": 41,
   "id": "f424dbef",
   "metadata": {},
   "outputs": [],
   "source": [
    "df_result = spark.sql(\"\"\"\n",
    "SELECT \n",
    "    -- Reveneue grouping \n",
    "    PULocationID AS revenue_zone,\n",
    "    date_trunc('month', pickup_datetime) AS revenue_month, \n",
    "    service_type, \n",
    "\n",
    "    -- Revenue calculation \n",
    "    SUM(fare_amount) AS revenue_monthly_fare,\n",
    "    SUM(extra) AS revenue_monthly_extra,\n",
    "    SUM(mta_tax) AS revenue_monthly_mta_tax,\n",
    "    SUM(tip_amount) AS revenue_monthly_tip_amount,\n",
    "    SUM(tolls_amount) AS revenue_monthly_tolls_amount,\n",
    "    SUM(improvement_surcharge) AS revenue_monthly_improvement_surcharge,\n",
    "    SUM(total_amount) AS revenue_monthly_total_amount,\n",
    "    SUM(congestion_surcharge) AS revenue_monthly_congestion_surcharge,\n",
    "\n",
    "    -- Additional calculations\n",
    "    AVG(passenger_count) AS avg_montly_passenger_count,\n",
    "    AVG(trip_distance) AS avg_montly_trip_distance\n",
    "FROM\n",
    "    trips_data\n",
    "GROUP BY\n",
    "    1, 2, 3\n",
    "\"\"\")"
   ]
  },
  {
   "cell_type": "code",
   "execution_count": 44,
   "id": "042fcede",
   "metadata": {},
   "outputs": [
    {
     "name": "stderr",
     "output_type": "stream",
     "text": [
      "                                                                                \r"
     ]
    }
   ],
   "source": [
    "df_result.coalesce(1).write.parquet('data/report/revenue', mode='overwrite')"
   ]
  }
 ],
 "metadata": {
  "kernelspec": {
   "display_name": "Python 3 (ipykernel)",
   "language": "python",
   "name": "python3"
  },
  "language_info": {
   "codemirror_mode": {
    "name": "ipython",
    "version": 3
   },
   "file_extension": ".py",
   "mimetype": "text/x-python",
   "name": "python",
   "nbconvert_exporter": "python",
   "pygments_lexer": "ipython3",
   "version": "3.11.5"
  }
 },
 "nbformat": 4,
 "nbformat_minor": 5
}
