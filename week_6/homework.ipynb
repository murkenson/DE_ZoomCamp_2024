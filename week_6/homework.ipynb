{
 "cells": [
  {
   "cell_type": "markdown",
   "id": "c274e11f",
   "metadata": {},
   "source": [
    "## Module 6 Homework \n",
    "\n",
    "In this homework, we're going to extend Module 5 Homework and learn about streaming with PySpark.\n",
    "\n",
    "Instead of Kafka, we will use Red Panda, which is a drop-in\n",
    "replacement for Kafka. \n",
    "\n",
    "Ensure you have the following set up (if you had done the previous homework and the module):\n",
    "\n",
    "- Docker (see [module 1](https://github.com/DataTalksClub/data-engineering-zoomcamp/tree/main/01-docker-terraform))\n",
    "- PySpark (see [module 5](https://github.com/DataTalksClub/data-engineering-zoomcamp/tree/main/05-batch/setup))\n",
    "\n",
    "For this homework we will be using the files from Module 5 homework:\n",
    "\n",
    "- Green 2019-10 data from [here](https://github.com/DataTalksClub/nyc-tlc-data/releases/download/green/green_tripdata_2019-10.csv.gz)\n"
   ]
  },
  {
   "cell_type": "code",
   "execution_count": 6,
   "id": "f30331d8",
   "metadata": {},
   "outputs": [],
   "source": [
    "import json\n",
    "import time\n",
    "import pandas as pd\n",
    "import datetime\n",
    "\n",
    "\n",
    "from kafka import KafkaProducer"
   ]
  },
  {
   "cell_type": "code",
   "execution_count": 7,
   "id": "5e8ffa32",
   "metadata": {},
   "outputs": [],
   "source": [
    "def json_serializer(data):\n",
    "    return json.dumps(data).encode(\"utf-8\")"
   ]
  },
  {
   "cell_type": "code",
   "execution_count": 8,
   "id": "df6cc370",
   "metadata": {},
   "outputs": [],
   "source": [
    "server = \"localhost:9092\"\n",
    "\n",
    "producer = KafkaProducer(bootstrap_servers=[server], value_serializer=json_serializer)"
   ]
  },
  {
   "cell_type": "code",
   "execution_count": 9,
   "id": "9a77110e",
   "metadata": {},
   "outputs": [
    {
     "data": {
      "text/plain": [
       "True"
      ]
     },
     "execution_count": 9,
     "metadata": {},
     "output_type": "execute_result"
    }
   ],
   "source": [
    "producer.bootstrap_connected()\n"
   ]
  },
  {
   "cell_type": "markdown",
   "id": "50a3c2d1",
   "metadata": {},
   "source": [
    "## Question 1: Redpanda version"
   ]
  },
  {
   "cell_type": "code",
   "execution_count": 10,
   "id": "8b7db494",
   "metadata": {},
   "outputs": [
    {
     "name": "stdout",
     "output_type": "stream",
     "text": [
      "v22.3.5 (rev 28b2443)\r\n"
     ]
    }
   ],
   "source": [
    "!docker exec -it redpanda-1 rpk version"
   ]
  },
  {
   "cell_type": "markdown",
   "id": "5547a717",
   "metadata": {},
   "source": [
    "## Question 2. Creating a topic"
   ]
  },
  {
   "cell_type": "code",
   "execution_count": 11,
   "id": "1bd04233",
   "metadata": {},
   "outputs": [
    {
     "name": "stdout",
     "output_type": "stream",
     "text": [
      "TOPIC       STATUS\r\n",
      "test-topic  OK\r\n"
     ]
    }
   ],
   "source": [
    "!docker exec -it redpanda-1 rpk topic create test-topic"
   ]
  },
  {
   "cell_type": "markdown",
   "id": "ffdffc1a",
   "metadata": {},
   "source": [
    "## Question 3. Connecting to the Kafka server"
   ]
  },
  {
   "cell_type": "code",
   "execution_count": 12,
   "id": "10cea6b6",
   "metadata": {},
   "outputs": [
    {
     "data": {
      "text/plain": [
       "True"
      ]
     },
     "execution_count": 12,
     "metadata": {},
     "output_type": "execute_result"
    }
   ],
   "source": [
    "def json_serializer(data):\n",
    "    return json.dumps(data).encode('utf-8')\n",
    "\n",
    "server = 'localhost:9092'\n",
    "\n",
    "producer = KafkaProducer(\n",
    "    bootstrap_servers=[server],\n",
    "    value_serializer=json_serializer\n",
    ")\n",
    "\n",
    "producer.bootstrap_connected()"
   ]
  },
  {
   "cell_type": "markdown",
   "id": "26bb4ee6",
   "metadata": {},
   "source": [
    "## Question 4. Sending data to the stream"
   ]
  },
  {
   "cell_type": "code",
   "execution_count": 13,
   "id": "508e3b90",
   "metadata": {},
   "outputs": [
    {
     "name": "stdout",
     "output_type": "stream",
     "text": [
      "Sent: {'number': 0}\n",
      "Sent: {'number': 1}\n",
      "Sent: {'number': 2}\n",
      "Sent: {'number': 3}\n",
      "Sent: {'number': 4}\n",
      "Sent: {'number': 5}\n",
      "Sent: {'number': 6}\n",
      "Sent: {'number': 7}\n",
      "Sent: {'number': 8}\n",
      "Sent: {'number': 9}\n",
      "took 0.51 seconds\n"
     ]
    }
   ],
   "source": [
    "t0 = time.time()\n",
    "\n",
    "topic_name = 'test-topic'\n",
    "\n",
    "for i in range(10):\n",
    "    message = {'number': i}\n",
    "    producer.send(topic_name, value=message)\n",
    "    print(f\"Sent: {message}\")\n",
    "    time.sleep(0.05)\n",
    "\n",
    "producer.flush()\n",
    "\n",
    "t1 = time.time()    \n",
    "print(f'took {(t1 - t0):.2f} seconds')\n"
   ]
  },
  {
   "cell_type": "markdown",
   "id": "458086f5",
   "metadata": {},
   "source": [
    "## Question 5: Sending the Trip Data"
   ]
  },
  {
   "cell_type": "code",
   "execution_count": 14,
   "id": "8a911639",
   "metadata": {},
   "outputs": [
    {
     "name": "stdout",
     "output_type": "stream",
     "text": [
      "TOPIC        STATUS\r\n",
      "green-trips  OK\r\n"
     ]
    }
   ],
   "source": [
    "!docker exec -it redpanda-1 rpk topic create green-trips"
   ]
  },
  {
   "cell_type": "code",
   "execution_count": 16,
   "id": "04718e53",
   "metadata": {},
   "outputs": [],
   "source": [
    "df_green = pd.read_csv('green_tripdata_2019-10.csv.gz', compression='gzip', low_memory=False)\n",
    "\n",
    "\n",
    "\n",
    "df_green = df_green[['lpep_pickup_datetime',\n",
    "                     'lpep_dropoff_datetime',\n",
    "                     'PULocationID',\n",
    "                     'DOLocationID',\n",
    "                     'passenger_count',\n",
    "                     'trip_distance',\n",
    "                     'tip_amount']]"
   ]
  },
  {
   "cell_type": "code",
   "execution_count": null,
   "id": "640ed40d",
   "metadata": {},
   "outputs": [],
   "source": [
    "topic_name = 'green-trips'\n",
    "t0 = time.time()\n",
    "for row in df_green.itertuples(index=False):\n",
    "    row_dict = {col: getattr(row, col) for col in row._fields}\n",
    "    row_dict['timetstamp'] = datetime.datetime.now().timestamp()\n",
    "    producer.send(topic_name, value=row_dict)\n",
    "t1 = time.time()\n",
    "\n",
    "print(f'It took {round(t1 - t0, 1)} seconds to send these messages.')\n"
   ]
  },
  {
   "cell_type": "code",
   "execution_count": 18,
   "id": "400cbe47",
   "metadata": {
    "scrolled": true
   },
   "outputs": [
    {
     "name": "stdout",
     "output_type": "stream",
     "text": [
      ":: loading settings :: url = jar:file:/home/marfanyan/spark/spark-3.5.0-bin-hadoop3/jars/ivy-2.5.1.jar!/org/apache/ivy/core/settings/ivysettings.xml\n"
     ]
    },
    {
     "name": "stderr",
     "output_type": "stream",
     "text": [
      "Ivy Default Cache set to: /home/marfanyan/.ivy2/cache\n",
      "The jars for the packages stored in: /home/marfanyan/.ivy2/jars\n",
      "org.apache.spark#spark-sql-kafka-0-10_2.12 added as a dependency\n",
      ":: resolving dependencies :: org.apache.spark#spark-submit-parent-c911f5ad-6d0a-4288-837f-a6d249a6e536;1.0\n",
      "\tconfs: [default]\n",
      "\tfound org.apache.spark#spark-sql-kafka-0-10_2.12;3.5.0 in central\n",
      "\tfound org.apache.spark#spark-token-provider-kafka-0-10_2.12;3.5.0 in central\n",
      "\tfound org.apache.kafka#kafka-clients;3.4.1 in central\n",
      "\tfound org.lz4#lz4-java;1.8.0 in central\n",
      "\tfound org.xerial.snappy#snappy-java;1.1.10.3 in central\n",
      "\tfound org.slf4j#slf4j-api;2.0.7 in central\n",
      "\tfound org.apache.hadoop#hadoop-client-runtime;3.3.4 in central\n",
      "\tfound org.apache.hadoop#hadoop-client-api;3.3.4 in central\n",
      "\tfound commons-logging#commons-logging;1.1.3 in central\n",
      "\tfound com.google.code.findbugs#jsr305;3.0.0 in central\n",
      "\tfound org.apache.commons#commons-pool2;2.11.1 in central\n",
      ":: resolution report :: resolve 1385ms :: artifacts dl 53ms\n",
      "\t:: modules in use:\n",
      "\tcom.google.code.findbugs#jsr305;3.0.0 from central in [default]\n",
      "\tcommons-logging#commons-logging;1.1.3 from central in [default]\n",
      "\torg.apache.commons#commons-pool2;2.11.1 from central in [default]\n",
      "\torg.apache.hadoop#hadoop-client-api;3.3.4 from central in [default]\n",
      "\torg.apache.hadoop#hadoop-client-runtime;3.3.4 from central in [default]\n",
      "\torg.apache.kafka#kafka-clients;3.4.1 from central in [default]\n",
      "\torg.apache.spark#spark-sql-kafka-0-10_2.12;3.5.0 from central in [default]\n",
      "\torg.apache.spark#spark-token-provider-kafka-0-10_2.12;3.5.0 from central in [default]\n",
      "\torg.lz4#lz4-java;1.8.0 from central in [default]\n",
      "\torg.slf4j#slf4j-api;2.0.7 from central in [default]\n",
      "\torg.xerial.snappy#snappy-java;1.1.10.3 from central in [default]\n",
      "\t---------------------------------------------------------------------\n",
      "\t|                  |            modules            ||   artifacts   |\n",
      "\t|       conf       | number| search|dwnlded|evicted|| number|dwnlded|\n",
      "\t---------------------------------------------------------------------\n",
      "\t|      default     |   11  |   0   |   0   |   0   ||   11  |   0   |\n",
      "\t---------------------------------------------------------------------\n",
      ":: retrieving :: org.apache.spark#spark-submit-parent-c911f5ad-6d0a-4288-837f-a6d249a6e536\n",
      "\tconfs: [default]\n",
      "\t0 artifacts copied, 11 already retrieved (0kB/15ms)\n",
      "24/03/15 11:35:09 WARN NativeCodeLoader: Unable to load native-hadoop library for your platform... using builtin-java classes where applicable\n",
      "Setting default log level to \"WARN\".\n",
      "To adjust logging level use sc.setLogLevel(newLevel). For SparkR, use setLogLevel(newLevel).\n"
     ]
    }
   ],
   "source": [
    "import pyspark\n",
    "from pyspark.sql import SparkSession\n",
    "\n",
    "pyspark_version = pyspark.__version__\n",
    "kafka_jar_package = f\"org.apache.spark:spark-sql-kafka-0-10_2.12:{pyspark_version}\"\n",
    "\n",
    "spark = SparkSession \\\n",
    "    .builder \\\n",
    "    .master(\"local[*]\") \\\n",
    "    .appName(\"GreenTripsConsumer\") \\\n",
    "    .config(\"spark.jars.packages\", kafka_jar_package) \\\n",
    "    .getOrCreate()"
   ]
  },
  {
   "cell_type": "code",
   "execution_count": 19,
   "id": "3fa19ddc",
   "metadata": {},
   "outputs": [],
   "source": [
    "green_stream = spark \\\n",
    "    .readStream \\\n",
    "    .format(\"kafka\") \\\n",
    "    .option(\"kafka.bootstrap.servers\", \"localhost:9092\") \\\n",
    "    .option(\"subscribe\", \"green-trips\") \\\n",
    "    .option(\"startingOffsets\", \"earliest\") \\\n",
    "    .load()"
   ]
  },
  {
   "cell_type": "code",
   "execution_count": 20,
   "id": "3aa5c730",
   "metadata": {},
   "outputs": [
    {
     "name": "stderr",
     "output_type": "stream",
     "text": [
      "24/03/15 11:35:36 WARN ResolveWriteToStream: Temporary checkpoint location created which is deleted normally when the query didn't fail: /tmp/temporary-cd494a39-0e97-4849-89ae-ebab90558233. If it's required to delete it under any circumstances, please set spark.sql.streaming.forceDeleteTempCheckpointLocation to true. Important to know deleting temp checkpoint folder is best effort.\n",
      "24/03/15 11:35:36 WARN ResolveWriteToStream: spark.sql.adaptive.enabled is not supported in streaming DataFrames/Datasets and will be disabled.\n",
      "24/03/15 11:35:38 WARN AdminClientConfig: These configurations '[key.deserializer, value.deserializer, enable.auto.commit, max.poll.records, auto.offset.reset]' were supplied but are not used yet.\n",
      "                                                                                \r"
     ]
    },
    {
     "name": "stdout",
     "output_type": "stream",
     "text": [
      "Row(key=None, value=bytearray(b'{\"lpep_pickup_datetime\": \"2019-10-01 00:26:02\", \"lpep_dropoff_datetime\": \"2019-10-01 00:39:58\", \"PULocationID\": 112, \"DOLocationID\": 196, \"passenger_count\": 1.0, \"trip_distance\": 5.88, \"tip_amount\": 0.0, \"timetstamp\": 1710502391.712758}'), topic='green-trips', partition=0, offset=0, timestamp=datetime.datetime(2024, 3, 15, 11, 33, 11, 717000), timestampType=0)\n"
     ]
    }
   ],
   "source": [
    "def peek(mini_batch, batch_id):\n",
    "    first_row = mini_batch.take(1)\n",
    "\n",
    "    if first_row:\n",
    "        print(first_row[0])\n",
    "\n",
    "query = green_stream.writeStream.foreachBatch(peek).start()"
   ]
  },
  {
   "cell_type": "code",
   "execution_count": 21,
   "id": "b0e4cdcc",
   "metadata": {},
   "outputs": [],
   "source": [
    "query.stop()\n"
   ]
  },
  {
   "cell_type": "markdown",
   "id": "bcc9f91b",
   "metadata": {},
   "source": [
    "## Question 6. Parsing the data\n"
   ]
  },
  {
   "cell_type": "code",
   "execution_count": 22,
   "id": "60df3273",
   "metadata": {},
   "outputs": [],
   "source": [
    "from pyspark.sql import types\n",
    "\n",
    "schema = types.StructType() \\\n",
    "    .add(\"lpep_pickup_datetime\", types.StringType()) \\\n",
    "    .add(\"lpep_dropoff_datetime\", types.StringType()) \\\n",
    "    .add(\"PULocationID\", types.IntegerType()) \\\n",
    "    .add(\"DOLocationID\", types.IntegerType()) \\\n",
    "    .add(\"passenger_count\", types.DoubleType()) \\\n",
    "    .add(\"trip_distance\", types.DoubleType()) \\\n",
    "    .add(\"tip_amount\", types.DoubleType())"
   ]
  },
  {
   "cell_type": "code",
   "execution_count": 23,
   "id": "8730bb17",
   "metadata": {},
   "outputs": [],
   "source": [
    "from pyspark.sql import functions as F\n",
    "\n",
    "green_stream = green_stream \\\n",
    "  .select(F.from_json(F.col(\"value\").cast('STRING'), schema).alias(\"data\")) \\\n",
    "  .select(\"data.*\")"
   ]
  },
  {
   "cell_type": "code",
   "execution_count": 24,
   "id": "91a8ed0e",
   "metadata": {},
   "outputs": [
    {
     "name": "stdout",
     "output_type": "stream",
     "text": [
      "root\n",
      " |-- lpep_pickup_datetime: string (nullable = true)\n",
      " |-- lpep_dropoff_datetime: string (nullable = true)\n",
      " |-- PULocationID: integer (nullable = true)\n",
      " |-- DOLocationID: integer (nullable = true)\n",
      " |-- passenger_count: double (nullable = true)\n",
      " |-- trip_distance: double (nullable = true)\n",
      " |-- tip_amount: double (nullable = true)\n",
      "\n"
     ]
    }
   ],
   "source": [
    "green_stream.printSchema()\n"
   ]
  },
  {
   "cell_type": "markdown",
   "id": "7d485b25",
   "metadata": {},
   "source": [
    "## Question 7: Most popular destination"
   ]
  },
  {
   "cell_type": "code",
   "execution_count": 25,
   "id": "c7947b79",
   "metadata": {},
   "outputs": [],
   "source": [
    "green_stream = green_stream.withColumn(\"timestamp\", F.current_timestamp())\n",
    "\n",
    "\n",
    "popular_destinations = green_stream.groupBy(\n",
    "    F.window(\n",
    "        green_stream.timestamp,\n",
    "        windowDuration='5 minutes'\n",
    "    ),\n",
    "    green_stream.DOLocationID,\n",
    ").count()"
   ]
  },
  {
   "cell_type": "code",
   "execution_count": null,
   "id": "3470f00e",
   "metadata": {},
   "outputs": [],
   "source": [
    "query = popular_destinations \\\n",
    "    .writeStream \\\n",
    "    .outputMode(\"complete\") \\\n",
    "    .format(\"console\") \\\n",
    "    .option(\"truncate\", \"false\") \\\n",
    "    .start()\n",
    "\n",
    "query.awaitTermination()"
   ]
  }
 ],
 "metadata": {
  "kernelspec": {
   "display_name": "Python 3 (ipykernel)",
   "language": "python",
   "name": "python3"
  },
  "language_info": {
   "codemirror_mode": {
    "name": "ipython",
    "version": 3
   },
   "file_extension": ".py",
   "mimetype": "text/x-python",
   "name": "python",
   "nbconvert_exporter": "python",
   "pygments_lexer": "ipython3",
   "version": "3.11.5"
  }
 },
 "nbformat": 4,
 "nbformat_minor": 5
}
