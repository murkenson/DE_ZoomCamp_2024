{
 "cells": [
  {
   "cell_type": "code",
   "execution_count": 1,
   "id": "69d16ec3",
   "metadata": {},
   "outputs": [],
   "source": [
    "import pyspark\n",
    "from pyspark.sql import SparkSession\n"
   ]
  },
  {
   "cell_type": "code",
   "execution_count": 2,
   "id": "77d46299",
   "metadata": {},
   "outputs": [
    {
     "data": {
      "text/plain": [
       "'3.5.0'"
      ]
     },
     "execution_count": 2,
     "metadata": {},
     "output_type": "execute_result"
    }
   ],
   "source": [
    "pyspark.__version__"
   ]
  },
  {
   "cell_type": "code",
   "execution_count": 3,
   "id": "8de72e0d",
   "metadata": {},
   "outputs": [
    {
     "name": "stderr",
     "output_type": "stream",
     "text": [
      "Setting default log level to \"WARN\".\n",
      "To adjust logging level use sc.setLogLevel(newLevel). For SparkR, use setLogLevel(newLevel).\n",
      "24/02/17 08:10:07 WARN NativeCodeLoader: Unable to load native-hadoop library for your platform... using builtin-java classes where applicable\n"
     ]
    }
   ],
   "source": [
    "spark = SparkSession.builder \\\n",
    "    .master(\"local[*]\") \\\n",
    "    .appName('test') \\\n",
    "    .getOrCreate()"
   ]
  },
  {
   "cell_type": "code",
   "execution_count": 4,
   "id": "a7b27742",
   "metadata": {},
   "outputs": [
    {
     "name": "stderr",
     "output_type": "stream",
     "text": [
      "                                                                                \r"
     ]
    }
   ],
   "source": [
    "df_green= spark.read \\\n",
    "    .option(\"header\", \"true\") \\\n",
    "    .csv('data/raw/green/2020/01/')"
   ]
  },
  {
   "cell_type": "code",
   "execution_count": 6,
   "id": "6f5feea6",
   "metadata": {},
   "outputs": [
    {
     "name": "stdout",
     "output_type": "stream",
     "text": [
      "+--------+--------------------+---------------------+------------------+----------+------------+------------+---------------+-------------+-----------+-----+-------+----------+------------+---------+---------------------+------------+------------+---------+--------------------+\n",
      "|VendorID|lpep_pickup_datetime|lpep_dropoff_datetime|store_and_fwd_flag|RatecodeID|PULocationID|DOLocationID|passenger_count|trip_distance|fare_amount|extra|mta_tax|tip_amount|tolls_amount|ehail_fee|improvement_surcharge|total_amount|payment_type|trip_type|congestion_surcharge|\n",
      "+--------+--------------------+---------------------+------------------+----------+------------+------------+---------------+-------------+-----------+-----+-------+----------+------------+---------+---------------------+------------+------------+---------+--------------------+\n",
      "|       2| 2019-12-18 15:52:30|  2019-12-18 15:54:39|                 N|         1|         264|         264|              5|          .00|        3.5|  0.5|    0.5|      0.01|           0|     NULL|                  0.3|        4.81|           1|        1|                   0|\n",
      "|       2| 2020-01-01 00:45:58|  2020-01-01 00:56:39|                 N|         5|          66|          65|              2|         1.28|         20|    0|      0|      4.06|           0|     NULL|                  0.3|       24.36|           1|        2|                   0|\n",
      "|       2| 2020-01-01 00:41:38|  2020-01-01 00:52:49|                 N|         1|         181|         228|              1|         2.47|       10.5|  0.5|    0.5|      3.54|           0|     NULL|                  0.3|       15.34|           1|        1|                   0|\n",
      "|       1| 2020-01-01 00:52:46|  2020-01-01 01:14:21|                 N|         1|         129|         263|              2|         6.30|         21| 3.25|    0.5|         0|           0|     NULL|                  0.3|       25.05|           2|        1|                2.75|\n",
      "|       1| 2020-01-01 00:19:57|  2020-01-01 00:30:56|                 N|         1|         210|         150|              1|         2.30|         10|  0.5|    0.5|         0|           0|     NULL|                  0.3|        11.3|           1|        1|                   0|\n",
      "|       1| 2020-01-01 00:52:33|  2020-01-01 01:09:54|                 N|         1|          35|          39|              1|         3.00|       13.5|  0.5|    0.5|         0|           0|     NULL|                  0.3|        14.8|           1|        1|                   0|\n",
      "|       2| 2020-01-01 00:10:18|  2020-01-01 00:22:16|                 N|         1|          25|          61|              1|         2.77|         11|  0.5|    0.5|         0|           0|     NULL|                  0.3|        12.3|           2|        1|                   0|\n",
      "|       2| 2020-01-01 01:03:14|  2020-01-01 01:29:45|                 N|         1|         225|          89|              1|         4.98|       20.5|  0.5|    0.5|         0|           0|     NULL|                  0.3|        21.8|           2|        1|                   0|\n",
      "|       2| 2020-01-01 00:04:11|  2020-01-01 00:09:48|                 N|         1|         129|         129|              1|          .71|        5.5|  0.5|    0.5|         0|           0|     NULL|                  0.3|         6.8|           2|        1|                   0|\n",
      "|       2| 2020-01-01 00:25:52|  2020-01-01 00:32:16|                 N|         1|         129|          83|              1|          .80|        5.5|  0.5|    0.5|         0|           0|     NULL|                  0.3|         6.8|           2|        1|                   0|\n",
      "|       2| 2020-01-01 00:47:32|  2020-01-01 00:59:25|                 N|         1|          82|         173|              1|         1.52|        9.5|  0.5|    0.5|         0|           0|     NULL|                  0.3|        10.8|           2|        1|                   0|\n",
      "|       1| 2020-01-01 00:26:40|  2020-01-01 00:40:42|                 N|         1|          74|          69|              1|         3.80|         14|  0.5|    0.5|         0|           0|     NULL|                  0.3|        15.3|           2|        1|                   0|\n",
      "|       2| 2020-01-01 00:38:47|  2020-01-01 00:46:02|                 N|         1|          74|          41|              1|         1.12|        6.5|  0.5|    0.5|         0|           0|     NULL|                  0.3|         7.8|           1|        1|                   0|\n",
      "|       2| 2020-01-01 00:52:18|  2020-01-01 01:09:58|                 N|         1|          41|         127|              1|         5.67|         19|  0.5|    0.5|         0|           0|     NULL|                  0.3|        20.3|           2|        1|                   0|\n",
      "|       2| 2020-01-01 00:16:01|  2020-01-01 00:26:40|                 N|         1|           7|         260|              1|         1.86|        9.5|  0.5|    0.5|         0|           0|     NULL|                  0.3|        10.8|           2|        1|                   0|\n",
      "|       2| 2020-01-01 00:21:15|  2020-01-01 00:28:03|                 N|         1|           7|           7|              1|         1.42|          7|  0.5|    0.5|         0|           0|     NULL|                  0.3|         8.3|           2|        1|                   0|\n",
      "|       2| 2020-01-01 00:35:42|  2020-01-01 01:02:00|                 N|         1|           7|         133|              1|        15.48|         43|  0.5|    0.5|      8.86|           0|     NULL|                  0.3|       53.16|           1|        1|                   0|\n",
      "|       2| 2020-01-01 00:39:51|  2020-01-01 00:42:54|                 N|         1|         134|          28|              1|         1.15|        5.5|  0.5|    0.5|         1|           0|     NULL|                  0.3|         7.8|           1|        1|                   0|\n",
      "|       1| 2020-01-01 00:00:21|  2020-01-01 00:10:19|                 N|         1|          89|          39|              1|         2.30|         10|  0.5|    0.5|         0|           0|     NULL|                  0.3|        11.3|           2|        1|                   0|\n",
      "|       1| 2020-01-01 00:13:59|  2020-01-01 00:21:31|                 N|         1|          66|          65|              3|         1.00|        6.5|  0.5|    0.5|         0|           0|     NULL|                  0.3|         7.8|           2|        1|                   0|\n",
      "+--------+--------------------+---------------------+------------------+----------+------------+------------+---------------+-------------+-----------+-----+-------+----------+------------+---------+---------------------+------------+------------+---------+--------------------+\n",
      "only showing top 20 rows\n",
      "\n"
     ]
    }
   ],
   "source": [
    "df_green.show()"
   ]
  },
  {
   "cell_type": "code",
   "execution_count": 7,
   "id": "7887b472",
   "metadata": {},
   "outputs": [
    {
     "name": "stdout",
     "output_type": "stream",
     "text": [
      "root\n",
      " |-- VendorID: string (nullable = true)\n",
      " |-- lpep_pickup_datetime: string (nullable = true)\n",
      " |-- lpep_dropoff_datetime: string (nullable = true)\n",
      " |-- store_and_fwd_flag: string (nullable = true)\n",
      " |-- RatecodeID: string (nullable = true)\n",
      " |-- PULocationID: string (nullable = true)\n",
      " |-- DOLocationID: string (nullable = true)\n",
      " |-- passenger_count: string (nullable = true)\n",
      " |-- trip_distance: string (nullable = true)\n",
      " |-- fare_amount: string (nullable = true)\n",
      " |-- extra: string (nullable = true)\n",
      " |-- mta_tax: string (nullable = true)\n",
      " |-- tip_amount: string (nullable = true)\n",
      " |-- tolls_amount: string (nullable = true)\n",
      " |-- ehail_fee: string (nullable = true)\n",
      " |-- improvement_surcharge: string (nullable = true)\n",
      " |-- total_amount: string (nullable = true)\n",
      " |-- payment_type: string (nullable = true)\n",
      " |-- trip_type: string (nullable = true)\n",
      " |-- congestion_surcharge: string (nullable = true)\n",
      "\n"
     ]
    }
   ],
   "source": [
    "df_green.printSchema()"
   ]
  },
  {
   "cell_type": "code",
   "execution_count": 5,
   "id": "0d9a3f60",
   "metadata": {},
   "outputs": [],
   "source": [
    "from pyspark.sql import types"
   ]
  },
  {
   "cell_type": "code",
   "execution_count": 7,
   "id": "2a5a7018",
   "metadata": {},
   "outputs": [],
   "source": [
    "green_schema = types.StructType([\n",
    "    types.StructField(\"VendorID\", types.IntegerType(), True),\n",
    "    types.StructField(\"lpep_pickup_datetime\", types.TimestampType(), True),\n",
    "    types.StructField(\"lpep_dropoff_datetime\", types.TimestampType(), True),\n",
    "    types.StructField(\"store_and_fwd_flag\", types.StringType(), True),\n",
    "    types.StructField(\"RatecodeID\", types.IntegerType(), True),\n",
    "    types.StructField(\"PULocationID\", types.IntegerType(), True),\n",
    "    types.StructField(\"DOLocationID\", types.IntegerType(), True),\n",
    "    types.StructField(\"passenger_count\", types.IntegerType(), True),\n",
    "    types.StructField(\"trip_distance\", types.DoubleType(), True),\n",
    "    types.StructField(\"fare_amount\", types.DoubleType(), True),\n",
    "    types.StructField(\"extra\", types.DoubleType(), True),\n",
    "    types.StructField(\"mta_tax\", types.DoubleType(), True),\n",
    "    types.StructField(\"tip_amount\", types.DoubleType(), True),\n",
    "    types.StructField(\"tolls_amount\", types.DoubleType(), True),\n",
    "    types.StructField(\"ehail_fee\", types.DoubleType(), True),\n",
    "    types.StructField(\"improvement_surcharge\", types.DoubleType(), True),\n",
    "    types.StructField(\"total_amount\", types.DoubleType(), True),\n",
    "    types.StructField(\"payment_type\", types.IntegerType(), True),\n",
    "    types.StructField(\"trip_type\", types.IntegerType(), True),\n",
    "    types.StructField(\"congestion_surcharge\", types.DoubleType(), True)\n",
    "])"
   ]
  },
  {
   "cell_type": "code",
   "execution_count": 8,
   "id": "d0c75b6c",
   "metadata": {},
   "outputs": [],
   "source": [
    "df_green= spark.read \\\n",
    "    .option(\"header\", \"true\") \\\n",
    "    .schema(green_schema) \\\n",
    "    .csv('data/raw/green/2020/01/')"
   ]
  },
  {
   "cell_type": "code",
   "execution_count": 9,
   "id": "43674572",
   "metadata": {},
   "outputs": [
    {
     "name": "stdout",
     "output_type": "stream",
     "text": [
      "+--------+--------------------+---------------------+------------------+----------+------------+------------+---------------+-------------+-----------+-----+-------+----------+------------+---------+---------------------+------------+------------+---------+--------------------+\n",
      "|VendorID|lpep_pickup_datetime|lpep_dropoff_datetime|store_and_fwd_flag|RatecodeID|PULocationID|DOLocationID|passenger_count|trip_distance|fare_amount|extra|mta_tax|tip_amount|tolls_amount|ehail_fee|improvement_surcharge|total_amount|payment_type|trip_type|congestion_surcharge|\n",
      "+--------+--------------------+---------------------+------------------+----------+------------+------------+---------------+-------------+-----------+-----+-------+----------+------------+---------+---------------------+------------+------------+---------+--------------------+\n",
      "|       2| 2019-12-18 15:52:30|  2019-12-18 15:54:39|                 N|         1|         264|         264|              5|          0.0|        3.5|  0.5|    0.5|      0.01|         0.0|     NULL|                  0.3|        4.81|           1|        1|                 0.0|\n",
      "|       2| 2020-01-01 00:45:58|  2020-01-01 00:56:39|                 N|         5|          66|          65|              2|         1.28|       20.0|  0.0|    0.0|      4.06|         0.0|     NULL|                  0.3|       24.36|           1|        2|                 0.0|\n",
      "|       2| 2020-01-01 00:41:38|  2020-01-01 00:52:49|                 N|         1|         181|         228|              1|         2.47|       10.5|  0.5|    0.5|      3.54|         0.0|     NULL|                  0.3|       15.34|           1|        1|                 0.0|\n",
      "|       1| 2020-01-01 00:52:46|  2020-01-01 01:14:21|                 N|         1|         129|         263|              2|          6.3|       21.0| 3.25|    0.5|       0.0|         0.0|     NULL|                  0.3|       25.05|           2|        1|                2.75|\n",
      "|       1| 2020-01-01 00:19:57|  2020-01-01 00:30:56|                 N|         1|         210|         150|              1|          2.3|       10.0|  0.5|    0.5|       0.0|         0.0|     NULL|                  0.3|        11.3|           1|        1|                 0.0|\n",
      "|       1| 2020-01-01 00:52:33|  2020-01-01 01:09:54|                 N|         1|          35|          39|              1|          3.0|       13.5|  0.5|    0.5|       0.0|         0.0|     NULL|                  0.3|        14.8|           1|        1|                 0.0|\n",
      "|       2| 2020-01-01 00:10:18|  2020-01-01 00:22:16|                 N|         1|          25|          61|              1|         2.77|       11.0|  0.5|    0.5|       0.0|         0.0|     NULL|                  0.3|        12.3|           2|        1|                 0.0|\n",
      "|       2| 2020-01-01 01:03:14|  2020-01-01 01:29:45|                 N|         1|         225|          89|              1|         4.98|       20.5|  0.5|    0.5|       0.0|         0.0|     NULL|                  0.3|        21.8|           2|        1|                 0.0|\n",
      "|       2| 2020-01-01 00:04:11|  2020-01-01 00:09:48|                 N|         1|         129|         129|              1|         0.71|        5.5|  0.5|    0.5|       0.0|         0.0|     NULL|                  0.3|         6.8|           2|        1|                 0.0|\n",
      "|       2| 2020-01-01 00:25:52|  2020-01-01 00:32:16|                 N|         1|         129|          83|              1|          0.8|        5.5|  0.5|    0.5|       0.0|         0.0|     NULL|                  0.3|         6.8|           2|        1|                 0.0|\n",
      "|       2| 2020-01-01 00:47:32|  2020-01-01 00:59:25|                 N|         1|          82|         173|              1|         1.52|        9.5|  0.5|    0.5|       0.0|         0.0|     NULL|                  0.3|        10.8|           2|        1|                 0.0|\n",
      "|       1| 2020-01-01 00:26:40|  2020-01-01 00:40:42|                 N|         1|          74|          69|              1|          3.8|       14.0|  0.5|    0.5|       0.0|         0.0|     NULL|                  0.3|        15.3|           2|        1|                 0.0|\n",
      "|       2| 2020-01-01 00:38:47|  2020-01-01 00:46:02|                 N|         1|          74|          41|              1|         1.12|        6.5|  0.5|    0.5|       0.0|         0.0|     NULL|                  0.3|         7.8|           1|        1|                 0.0|\n",
      "|       2| 2020-01-01 00:52:18|  2020-01-01 01:09:58|                 N|         1|          41|         127|              1|         5.67|       19.0|  0.5|    0.5|       0.0|         0.0|     NULL|                  0.3|        20.3|           2|        1|                 0.0|\n",
      "|       2| 2020-01-01 00:16:01|  2020-01-01 00:26:40|                 N|         1|           7|         260|              1|         1.86|        9.5|  0.5|    0.5|       0.0|         0.0|     NULL|                  0.3|        10.8|           2|        1|                 0.0|\n",
      "|       2| 2020-01-01 00:21:15|  2020-01-01 00:28:03|                 N|         1|           7|           7|              1|         1.42|        7.0|  0.5|    0.5|       0.0|         0.0|     NULL|                  0.3|         8.3|           2|        1|                 0.0|\n",
      "|       2| 2020-01-01 00:35:42|  2020-01-01 01:02:00|                 N|         1|           7|         133|              1|        15.48|       43.0|  0.5|    0.5|      8.86|         0.0|     NULL|                  0.3|       53.16|           1|        1|                 0.0|\n",
      "|       2| 2020-01-01 00:39:51|  2020-01-01 00:42:54|                 N|         1|         134|          28|              1|         1.15|        5.5|  0.5|    0.5|       1.0|         0.0|     NULL|                  0.3|         7.8|           1|        1|                 0.0|\n",
      "|       1| 2020-01-01 00:00:21|  2020-01-01 00:10:19|                 N|         1|          89|          39|              1|          2.3|       10.0|  0.5|    0.5|       0.0|         0.0|     NULL|                  0.3|        11.3|           2|        1|                 0.0|\n",
      "|       1| 2020-01-01 00:13:59|  2020-01-01 00:21:31|                 N|         1|          66|          65|              3|          1.0|        6.5|  0.5|    0.5|       0.0|         0.0|     NULL|                  0.3|         7.8|           2|        1|                 0.0|\n",
      "+--------+--------------------+---------------------+------------------+----------+------------+------------+---------------+-------------+-----------+-----+-------+----------+------------+---------+---------------------+------------+------------+---------+--------------------+\n",
      "only showing top 20 rows\n",
      "\n"
     ]
    }
   ],
   "source": [
    "df_green.show()"
   ]
  },
  {
   "cell_type": "code",
   "execution_count": 14,
   "id": "94d74651",
   "metadata": {},
   "outputs": [
    {
     "name": "stdout",
     "output_type": "stream",
     "text": [
      "root\n",
      " |-- VendorID: integer (nullable = true)\n",
      " |-- lpep_pickup_datetime: timestamp (nullable = true)\n",
      " |-- lpep_dropoff_datetime: timestamp (nullable = true)\n",
      " |-- passenger_count: integer (nullable = true)\n",
      " |-- trip_distance: double (nullable = true)\n",
      " |-- RatecodeID: integer (nullable = true)\n",
      " |-- store_and_fwd_flag: string (nullable = true)\n",
      " |-- PULocationID: integer (nullable = true)\n",
      " |-- DOLocationID: integer (nullable = true)\n",
      " |-- payment_type: integer (nullable = true)\n",
      " |-- fare_amount: integer (nullable = true)\n",
      " |-- extra: double (nullable = true)\n",
      " |-- mta_tax: double (nullable = true)\n",
      " |-- tip_amount: integer (nullable = true)\n",
      " |-- tolls_amount: double (nullable = true)\n",
      " |-- improvement_surcharge: double (nullable = true)\n",
      " |-- total_amount: double (nullable = true)\n",
      " |-- congestion_surcharge: string (nullable = true)\n",
      "\n"
     ]
    }
   ],
   "source": [
    "df_green.printSchema()"
   ]
  },
  {
   "cell_type": "code",
   "execution_count": 13,
   "id": "d1f6f937",
   "metadata": {},
   "outputs": [],
   "source": [
    "df_yellow= spark.read \\\n",
    "    .option(\"header\", \"true\") \\\n",
    "    .csv('data/raw/yellow/2020/01/')"
   ]
  },
  {
   "cell_type": "code",
   "execution_count": 14,
   "id": "083af229",
   "metadata": {},
   "outputs": [
    {
     "name": "stdout",
     "output_type": "stream",
     "text": [
      "+--------+--------------------+---------------------+---------------+-------------+----------+------------------+------------+------------+------------+-----------+-----+-------+----------+------------+---------------------+------------+--------------------+\n",
      "|VendorID|tpep_pickup_datetime|tpep_dropoff_datetime|passenger_count|trip_distance|RatecodeID|store_and_fwd_flag|PULocationID|DOLocationID|payment_type|fare_amount|extra|mta_tax|tip_amount|tolls_amount|improvement_surcharge|total_amount|congestion_surcharge|\n",
      "+--------+--------------------+---------------------+---------------+-------------+----------+------------------+------------+------------+------------+-----------+-----+-------+----------+------------+---------------------+------------+--------------------+\n",
      "|       1| 2020-01-01 00:28:15|  2020-01-01 00:33:03|              1|         1.20|         1|                 N|         238|         239|           1|          6|    3|    0.5|      1.47|           0|                  0.3|       11.27|                 2.5|\n",
      "|       1| 2020-01-01 00:35:39|  2020-01-01 00:43:04|              1|         1.20|         1|                 N|         239|         238|           1|          7|    3|    0.5|       1.5|           0|                  0.3|        12.3|                 2.5|\n",
      "|       1| 2020-01-01 00:47:41|  2020-01-01 00:53:52|              1|          .60|         1|                 N|         238|         238|           1|          6|    3|    0.5|         1|           0|                  0.3|        10.8|                 2.5|\n",
      "|       1| 2020-01-01 00:55:23|  2020-01-01 01:00:14|              1|          .80|         1|                 N|         238|         151|           1|        5.5|  0.5|    0.5|      1.36|           0|                  0.3|        8.16|                   0|\n",
      "|       2| 2020-01-01 00:01:58|  2020-01-01 00:04:16|              1|          .00|         1|                 N|         193|         193|           2|        3.5|  0.5|    0.5|         0|           0|                  0.3|         4.8|                   0|\n",
      "|       2| 2020-01-01 00:09:44|  2020-01-01 00:10:37|              1|          .03|         1|                 N|           7|         193|           2|        2.5|  0.5|    0.5|         0|           0|                  0.3|         3.8|                   0|\n",
      "|       2| 2020-01-01 00:39:25|  2020-01-01 00:39:29|              1|          .00|         1|                 N|         193|         193|           1|        2.5|  0.5|    0.5|      0.01|           0|                  0.3|        3.81|                   0|\n",
      "|       2| 2019-12-18 15:27:49|  2019-12-18 15:28:59|              1|          .00|         5|                 N|         193|         193|           1|       0.01|    0|      0|         0|           0|                  0.3|        2.81|                 2.5|\n",
      "|       2| 2019-12-18 15:30:35|  2019-12-18 15:31:35|              4|          .00|         1|                 N|         193|         193|           1|        2.5|  0.5|    0.5|         0|           0|                  0.3|         6.3|                 2.5|\n",
      "|       1| 2020-01-01 00:29:01|  2020-01-01 00:40:28|              2|          .70|         1|                 N|         246|          48|           1|          8|    3|    0.5|      2.35|           0|                  0.3|       14.15|                 2.5|\n",
      "|       1| 2020-01-01 00:55:11|  2020-01-01 01:12:03|              2|         2.40|         1|                 N|         246|          79|           1|         12|    3|    0.5|      1.75|           0|                  0.3|       17.55|                 2.5|\n",
      "|       1| 2020-01-01 00:37:15|  2020-01-01 00:51:41|              1|          .80|         1|                 N|         163|         161|           2|        9.5|    3|    0.5|         0|           0|                  0.3|        13.3|                 2.5|\n",
      "|       1| 2020-01-01 00:56:27|  2020-01-01 01:21:44|              1|         3.30|         1|                 N|         161|         144|           1|         17|    3|    0.5|      4.15|           0|                  0.3|       24.95|                 2.5|\n",
      "|       2| 2020-01-01 00:21:54|  2020-01-01 00:27:31|              1|         1.07|         1|                 N|          43|         239|           1|          6|  0.5|    0.5|      1.96|           0|                  0.3|       11.76|                 2.5|\n",
      "|       2| 2020-01-01 00:38:01|  2020-01-01 01:15:21|              1|         7.76|         1|                 N|         143|          25|           1|       28.5|  0.5|    0.5|      4.84|           0|                  0.3|       37.14|                 2.5|\n",
      "|       1| 2020-01-01 00:15:35|  2020-01-01 00:27:06|              3|         1.60|         1|                 N|         211|         234|           2|          9|    3|    0.5|         0|           0|                  0.3|        12.8|                 2.5|\n",
      "|       1| 2020-01-01 00:41:20|  2020-01-01 00:44:22|              1|          .50|         1|                 Y|         234|          90|           1|          4|    3|    0.5|         1|           0|                  0.3|         8.8|                 2.5|\n",
      "|       1| 2020-01-01 00:56:38|  2020-01-01 01:13:34|              1|         1.70|         1|                 N|         246|         142|           2|       11.5|    3|    0.5|         0|           0|                  0.3|        15.3|                 2.5|\n",
      "|       2| 2020-01-01 00:08:21|  2020-01-01 00:25:29|              1|         8.45|         1|                 N|         138|         216|           2|       24.5|  0.5|    0.5|         0|           0|                  0.3|        25.8|                   0|\n",
      "|       1| 2020-01-01 00:25:39|  2020-01-01 00:27:05|              1|          .00|         1|                 N|         170|         162|           4|          3|    3|    0.5|         0|           0|                  0.3|         6.8|                 2.5|\n",
      "+--------+--------------------+---------------------+---------------+-------------+----------+------------------+------------+------------+------------+-----------+-----+-------+----------+------------+---------------------+------------+--------------------+\n",
      "only showing top 20 rows\n",
      "\n"
     ]
    }
   ],
   "source": [
    "df_yellow.show()"
   ]
  },
  {
   "cell_type": "code",
   "execution_count": 15,
   "id": "f783f415",
   "metadata": {},
   "outputs": [
    {
     "name": "stdout",
     "output_type": "stream",
     "text": [
      "root\n",
      " |-- VendorID: string (nullable = true)\n",
      " |-- tpep_pickup_datetime: string (nullable = true)\n",
      " |-- tpep_dropoff_datetime: string (nullable = true)\n",
      " |-- passenger_count: string (nullable = true)\n",
      " |-- trip_distance: string (nullable = true)\n",
      " |-- RatecodeID: string (nullable = true)\n",
      " |-- store_and_fwd_flag: string (nullable = true)\n",
      " |-- PULocationID: string (nullable = true)\n",
      " |-- DOLocationID: string (nullable = true)\n",
      " |-- payment_type: string (nullable = true)\n",
      " |-- fare_amount: string (nullable = true)\n",
      " |-- extra: string (nullable = true)\n",
      " |-- mta_tax: string (nullable = true)\n",
      " |-- tip_amount: string (nullable = true)\n",
      " |-- tolls_amount: string (nullable = true)\n",
      " |-- improvement_surcharge: string (nullable = true)\n",
      " |-- total_amount: string (nullable = true)\n",
      " |-- congestion_surcharge: string (nullable = true)\n",
      "\n"
     ]
    }
   ],
   "source": [
    "df_yellow.printSchema()"
   ]
  },
  {
   "cell_type": "code",
   "execution_count": 11,
   "id": "54ed7095",
   "metadata": {},
   "outputs": [],
   "source": [
    "yellow_schema = types.StructType([\n",
    "    types.StructField(\"VendorID\", types.IntegerType(), True),\n",
    "    types.StructField(\"tpep_pickup_datetime\", types.TimestampType(), True),\n",
    "    types.StructField(\"tpep_dropoff_datetime\", types.TimestampType(), True),\n",
    "    types.StructField(\"passenger_count\", types.IntegerType(), True),\n",
    "    types.StructField(\"trip_distance\", types.DoubleType(), True),\n",
    "    types.StructField(\"RatecodeID\", types.IntegerType(), True),\n",
    "    types.StructField(\"store_and_fwd_flag\", types.StringType(), True),\n",
    "    types.StructField(\"PULocationID\", types.IntegerType(), True),\n",
    "    types.StructField(\"DOLocationID\", types.IntegerType(), True),\n",
    "    types.StructField(\"payment_type\", types.IntegerType(), True),\n",
    "    types.StructField(\"fare_amount\", types.DoubleType(), True),\n",
    "    types.StructField(\"extra\", types.DoubleType(), True),\n",
    "    types.StructField(\"mta_tax\", types.DoubleType(), True),\n",
    "    types.StructField(\"tip_amount\", types.DoubleType(), True),\n",
    "    types.StructField(\"tolls_amount\", types.DoubleType(), True),\n",
    "    types.StructField(\"improvement_surcharge\", types.DoubleType(), True),\n",
    "    types.StructField(\"total_amount\", types.DoubleType(), True),\n",
    "    types.StructField(\"congestion_surcharge\", types.DoubleType(), True)\n",
    "])"
   ]
  },
  {
   "cell_type": "code",
   "execution_count": 20,
   "id": "41cbd9ff",
   "metadata": {},
   "outputs": [],
   "source": [
    "df_yellow= spark.read \\\n",
    "    .option(\"header\", \"true\") \\\n",
    "    .schema(yellow_schema) \\\n",
    "    .csv('data/raw/yellow/2020/01/')"
   ]
  },
  {
   "cell_type": "code",
   "execution_count": 21,
   "id": "e0e32b7b",
   "metadata": {},
   "outputs": [
    {
     "name": "stdout",
     "output_type": "stream",
     "text": [
      "+--------+--------------------+---------------------+---------------+-------------+----------+------------------+------------+------------+------------+-----------+-----+-------+----------+------------+---------------------+------------+--------------------+\n",
      "|VendorID|tpep_pickup_datetime|tpep_dropoff_datetime|passenger_count|trip_distance|RatecodeID|store_and_fwd_flag|PULocationID|DOLocationID|payment_type|fare_amount|extra|mta_tax|tip_amount|tolls_amount|improvement_surcharge|total_amount|congestion_surcharge|\n",
      "+--------+--------------------+---------------------+---------------+-------------+----------+------------------+------------+------------+------------+-----------+-----+-------+----------+------------+---------------------+------------+--------------------+\n",
      "|       1| 2020-01-01 00:28:15|  2020-01-01 00:33:03|              1|          1.2|         1|                 N|         238|         239|           1|          6|  3.0|    0.5|      NULL|         0.0|                  0.3|       11.27|                 2.5|\n",
      "|       1| 2020-01-01 00:35:39|  2020-01-01 00:43:04|              1|          1.2|         1|                 N|         239|         238|           1|          7|  3.0|    0.5|      NULL|         0.0|                  0.3|        12.3|                 2.5|\n",
      "|       1| 2020-01-01 00:47:41|  2020-01-01 00:53:52|              1|          0.6|         1|                 N|         238|         238|           1|          6|  3.0|    0.5|         1|         0.0|                  0.3|        10.8|                 2.5|\n",
      "|       1| 2020-01-01 00:55:23|  2020-01-01 01:00:14|              1|          0.8|         1|                 N|         238|         151|           1|       NULL|  0.5|    0.5|      NULL|         0.0|                  0.3|        8.16|                   0|\n",
      "|       2| 2020-01-01 00:01:58|  2020-01-01 00:04:16|              1|          0.0|         1|                 N|         193|         193|           2|       NULL|  0.5|    0.5|         0|         0.0|                  0.3|         4.8|                   0|\n",
      "|       2| 2020-01-01 00:09:44|  2020-01-01 00:10:37|              1|         0.03|         1|                 N|           7|         193|           2|       NULL|  0.5|    0.5|         0|         0.0|                  0.3|         3.8|                   0|\n",
      "|       2| 2020-01-01 00:39:25|  2020-01-01 00:39:29|              1|          0.0|         1|                 N|         193|         193|           1|       NULL|  0.5|    0.5|      NULL|         0.0|                  0.3|        3.81|                   0|\n",
      "|       2| 2019-12-18 15:27:49|  2019-12-18 15:28:59|              1|          0.0|         5|                 N|         193|         193|           1|       NULL|  0.0|    0.0|         0|         0.0|                  0.3|        2.81|                 2.5|\n",
      "|       2| 2019-12-18 15:30:35|  2019-12-18 15:31:35|              4|          0.0|         1|                 N|         193|         193|           1|       NULL|  0.5|    0.5|         0|         0.0|                  0.3|         6.3|                 2.5|\n",
      "|       1| 2020-01-01 00:29:01|  2020-01-01 00:40:28|              2|          0.7|         1|                 N|         246|          48|           1|          8|  3.0|    0.5|      NULL|         0.0|                  0.3|       14.15|                 2.5|\n",
      "|       1| 2020-01-01 00:55:11|  2020-01-01 01:12:03|              2|          2.4|         1|                 N|         246|          79|           1|         12|  3.0|    0.5|      NULL|         0.0|                  0.3|       17.55|                 2.5|\n",
      "|       1| 2020-01-01 00:37:15|  2020-01-01 00:51:41|              1|          0.8|         1|                 N|         163|         161|           2|       NULL|  3.0|    0.5|         0|         0.0|                  0.3|        13.3|                 2.5|\n",
      "|       1| 2020-01-01 00:56:27|  2020-01-01 01:21:44|              1|          3.3|         1|                 N|         161|         144|           1|         17|  3.0|    0.5|      NULL|         0.0|                  0.3|       24.95|                 2.5|\n",
      "|       2| 2020-01-01 00:21:54|  2020-01-01 00:27:31|              1|         1.07|         1|                 N|          43|         239|           1|          6|  0.5|    0.5|      NULL|         0.0|                  0.3|       11.76|                 2.5|\n",
      "|       2| 2020-01-01 00:38:01|  2020-01-01 01:15:21|              1|         7.76|         1|                 N|         143|          25|           1|       NULL|  0.5|    0.5|      NULL|         0.0|                  0.3|       37.14|                 2.5|\n",
      "|       1| 2020-01-01 00:15:35|  2020-01-01 00:27:06|              3|          1.6|         1|                 N|         211|         234|           2|          9|  3.0|    0.5|         0|         0.0|                  0.3|        12.8|                 2.5|\n",
      "|       1| 2020-01-01 00:41:20|  2020-01-01 00:44:22|              1|          0.5|         1|                 Y|         234|          90|           1|          4|  3.0|    0.5|         1|         0.0|                  0.3|         8.8|                 2.5|\n",
      "|       1| 2020-01-01 00:56:38|  2020-01-01 01:13:34|              1|          1.7|         1|                 N|         246|         142|           2|       NULL|  3.0|    0.5|         0|         0.0|                  0.3|        15.3|                 2.5|\n",
      "|       2| 2020-01-01 00:08:21|  2020-01-01 00:25:29|              1|         8.45|         1|                 N|         138|         216|           2|       NULL|  0.5|    0.5|         0|         0.0|                  0.3|        25.8|                   0|\n",
      "|       1| 2020-01-01 00:25:39|  2020-01-01 00:27:05|              1|          0.0|         1|                 N|         170|         162|           4|          3|  3.0|    0.5|         0|         0.0|                  0.3|         6.8|                 2.5|\n",
      "+--------+--------------------+---------------------+---------------+-------------+----------+------------------+------------+------------+------------+-----------+-----+-------+----------+------------+---------------------+------------+--------------------+\n",
      "only showing top 20 rows\n",
      "\n"
     ]
    }
   ],
   "source": [
    "df_yellow.show()"
   ]
  },
  {
   "cell_type": "code",
   "execution_count": 22,
   "id": "519efa20",
   "metadata": {},
   "outputs": [
    {
     "name": "stdout",
     "output_type": "stream",
     "text": [
      "root\n",
      " |-- VendorID: integer (nullable = true)\n",
      " |-- tpep_pickup_datetime: timestamp (nullable = true)\n",
      " |-- tpep_dropoff_datetime: timestamp (nullable = true)\n",
      " |-- passenger_count: integer (nullable = true)\n",
      " |-- trip_distance: double (nullable = true)\n",
      " |-- RatecodeID: integer (nullable = true)\n",
      " |-- store_and_fwd_flag: string (nullable = true)\n",
      " |-- PULocationID: integer (nullable = true)\n",
      " |-- DOLocationID: integer (nullable = true)\n",
      " |-- payment_type: integer (nullable = true)\n",
      " |-- fare_amount: integer (nullable = true)\n",
      " |-- extra: double (nullable = true)\n",
      " |-- mta_tax: double (nullable = true)\n",
      " |-- tip_amount: integer (nullable = true)\n",
      " |-- tolls_amount: double (nullable = true)\n",
      " |-- improvement_surcharge: double (nullable = true)\n",
      " |-- total_amount: double (nullable = true)\n",
      " |-- congestion_surcharge: string (nullable = true)\n",
      "\n"
     ]
    }
   ],
   "source": [
    "df_yellow.printSchema()"
   ]
  },
  {
   "cell_type": "code",
   "execution_count": 10,
   "id": "efc619d4",
   "metadata": {},
   "outputs": [
    {
     "name": "stdout",
     "output_type": "stream",
     "text": [
      "processing data for 2020/1\n"
     ]
    },
    {
     "name": "stderr",
     "output_type": "stream",
     "text": [
      "                                                                                \r"
     ]
    },
    {
     "name": "stdout",
     "output_type": "stream",
     "text": [
      "processing data for 2020/2\n"
     ]
    },
    {
     "name": "stderr",
     "output_type": "stream",
     "text": [
      "                                                                                \r"
     ]
    },
    {
     "name": "stdout",
     "output_type": "stream",
     "text": [
      "processing data for 2020/3\n"
     ]
    },
    {
     "name": "stderr",
     "output_type": "stream",
     "text": [
      "                                                                                \r"
     ]
    },
    {
     "name": "stdout",
     "output_type": "stream",
     "text": [
      "processing data for 2020/4\n"
     ]
    },
    {
     "name": "stderr",
     "output_type": "stream",
     "text": [
      "\r",
      "[Stage 13:===========================================>              (3 + 1) / 4]\r",
      "\r",
      "                                                                                \r"
     ]
    },
    {
     "name": "stdout",
     "output_type": "stream",
     "text": [
      "processing data for 2020/5\n"
     ]
    },
    {
     "name": "stderr",
     "output_type": "stream",
     "text": [
      "\r",
      "[Stage 16:=============================>                            (2 + 2) / 4]\r",
      "\r",
      "                                                                                \r"
     ]
    },
    {
     "name": "stdout",
     "output_type": "stream",
     "text": [
      "processing data for 2020/6\n"
     ]
    },
    {
     "name": "stderr",
     "output_type": "stream",
     "text": [
      "\r",
      "[Stage 19:===========================================>              (3 + 1) / 4]\r",
      "\r",
      "                                                                                \r"
     ]
    },
    {
     "name": "stdout",
     "output_type": "stream",
     "text": [
      "processing data for 2020/7\n"
     ]
    },
    {
     "name": "stderr",
     "output_type": "stream",
     "text": [
      "                                                                                \r"
     ]
    },
    {
     "name": "stdout",
     "output_type": "stream",
     "text": [
      "processing data for 2020/8\n"
     ]
    },
    {
     "name": "stderr",
     "output_type": "stream",
     "text": [
      "                                                                                \r"
     ]
    },
    {
     "name": "stdout",
     "output_type": "stream",
     "text": [
      "processing data for 2020/9\n"
     ]
    },
    {
     "name": "stderr",
     "output_type": "stream",
     "text": [
      "                                                                                \r"
     ]
    },
    {
     "name": "stdout",
     "output_type": "stream",
     "text": [
      "processing data for 2020/10\n"
     ]
    },
    {
     "name": "stderr",
     "output_type": "stream",
     "text": [
      "                                                                                \r"
     ]
    },
    {
     "name": "stdout",
     "output_type": "stream",
     "text": [
      "processing data for 2020/11\n"
     ]
    },
    {
     "name": "stderr",
     "output_type": "stream",
     "text": [
      "                                                                                \r"
     ]
    },
    {
     "name": "stdout",
     "output_type": "stream",
     "text": [
      "processing data for 2020/12\n"
     ]
    },
    {
     "name": "stderr",
     "output_type": "stream",
     "text": [
      "                                                                                \r"
     ]
    }
   ],
   "source": [
    "year = 2020\n",
    "\n",
    "for month in range(1, 13):\n",
    "    print(f\"processing data for {year}/{month}\")\n",
    "    input_path = f\"data/raw/green/{year}/{month:02d}/\"\n",
    "    output_path = f\"data/pq/green/{year}/{month:02d}/\"\n",
    "\n",
    "    df_green = spark.read.option(\"header\", \"true\").schema(green_schema).csv(input_path)\n",
    "\n",
    "    df_green.repartition(4).write.parquet(output_path)\n"
   ]
  },
  {
   "cell_type": "code",
   "execution_count": 18,
   "id": "18a5810e",
   "metadata": {},
   "outputs": [
    {
     "name": "stdout",
     "output_type": "stream",
     "text": [
      "processing data for 2020/1\n"
     ]
    },
    {
     "name": "stderr",
     "output_type": "stream",
     "text": [
      "                                                                                \r"
     ]
    },
    {
     "name": "stdout",
     "output_type": "stream",
     "text": [
      "processing data for 2020/2\n"
     ]
    },
    {
     "name": "stderr",
     "output_type": "stream",
     "text": [
      "                                                                                \r"
     ]
    },
    {
     "name": "stdout",
     "output_type": "stream",
     "text": [
      "processing data for 2020/3\n"
     ]
    },
    {
     "name": "stderr",
     "output_type": "stream",
     "text": [
      "                                                                                \r"
     ]
    },
    {
     "name": "stdout",
     "output_type": "stream",
     "text": [
      "processing data for 2020/4\n"
     ]
    },
    {
     "name": "stderr",
     "output_type": "stream",
     "text": [
      "                                                                                \r"
     ]
    },
    {
     "name": "stdout",
     "output_type": "stream",
     "text": [
      "processing data for 2020/5\n"
     ]
    },
    {
     "name": "stderr",
     "output_type": "stream",
     "text": [
      "                                                                                \r"
     ]
    },
    {
     "name": "stdout",
     "output_type": "stream",
     "text": [
      "processing data for 2020/6\n"
     ]
    },
    {
     "name": "stderr",
     "output_type": "stream",
     "text": [
      "                                                                                \r"
     ]
    },
    {
     "name": "stdout",
     "output_type": "stream",
     "text": [
      "processing data for 2020/7\n"
     ]
    },
    {
     "name": "stderr",
     "output_type": "stream",
     "text": [
      "                                                                                \r"
     ]
    },
    {
     "name": "stdout",
     "output_type": "stream",
     "text": [
      "processing data for 2020/8\n"
     ]
    },
    {
     "name": "stderr",
     "output_type": "stream",
     "text": [
      "                                                                                \r"
     ]
    },
    {
     "name": "stdout",
     "output_type": "stream",
     "text": [
      "processing data for 2020/9\n"
     ]
    },
    {
     "name": "stderr",
     "output_type": "stream",
     "text": [
      "                                                                                \r"
     ]
    },
    {
     "name": "stdout",
     "output_type": "stream",
     "text": [
      "processing data for 2020/10\n"
     ]
    },
    {
     "name": "stderr",
     "output_type": "stream",
     "text": [
      "                                                                                \r"
     ]
    },
    {
     "name": "stdout",
     "output_type": "stream",
     "text": [
      "processing data for 2020/11\n"
     ]
    },
    {
     "name": "stderr",
     "output_type": "stream",
     "text": [
      "                                                                                \r"
     ]
    },
    {
     "name": "stdout",
     "output_type": "stream",
     "text": [
      "processing data for 2020/12\n"
     ]
    },
    {
     "name": "stderr",
     "output_type": "stream",
     "text": [
      "                                                                                \r"
     ]
    }
   ],
   "source": [
    "year = 2020\n",
    "\n",
    "for month in range(1, 13):\n",
    "    print(f\"processing data for {year}/{month}\")\n",
    "    input_path = f\"data/raw/yellow/{year}/{month:02d}/\"\n",
    "    output_path = f\"data/pq/yellow/{year}/{month:02d}/\"\n",
    "\n",
    "    df_yellow = spark.read.option(\"header\", \"true\").schema(yellow_schema).csv(input_path)\n",
    "\n",
    "    df_yellow.repartition(4).write.parquet(output_path, mode='overwrite')\n"
   ]
  }
 ],
 "metadata": {
  "kernelspec": {
   "display_name": "Python 3 (ipykernel)",
   "language": "python",
   "name": "python3"
  },
  "language_info": {
   "codemirror_mode": {
    "name": "ipython",
    "version": 3
   },
   "file_extension": ".py",
   "mimetype": "text/x-python",
   "name": "python",
   "nbconvert_exporter": "python",
   "pygments_lexer": "ipython3",
   "version": "3.11.5"
  }
 },
 "nbformat": 4,
 "nbformat_minor": 5
}
